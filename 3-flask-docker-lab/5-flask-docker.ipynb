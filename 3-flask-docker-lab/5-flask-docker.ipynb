{
 "cells": [
  {
   "cell_type": "markdown",
   "metadata": {},
   "source": [
    "# Flask Docker"
   ]
  },
  {
   "cell_type": "markdown",
   "metadata": {},
   "source": [
    "### Introduction"
   ]
  },
  {
   "cell_type": "markdown",
   "metadata": {},
   "source": [
    "In this lab, we'll dockerize a flask application.  Let's get started."
   ]
  },
  {
   "cell_type": "markdown",
   "metadata": {},
   "source": [
    "### Think Local"
   ]
  },
  {
   "cell_type": "markdown",
   "metadata": {},
   "source": [
    "To begin, let's make get our flask application working locally.  Create a flask application with the following file structure."
   ]
  },
  {
   "cell_type": "markdown",
   "metadata": {},
   "source": [
    "```\n",
    "users\n",
    "|_.env\n",
    "├── project\n",
    "│   ├──- __init__.py\n",
    "│   \n",
    "└── requirements.txt\n",
    "|\n",
    "|__Dockerfile\n",
    "```"
   ]
  },
  {
   "cell_type": "markdown",
   "metadata": {},
   "source": [
    "> Notice that we are not setting up a database for this project.  That's ok for now.  \n",
    "\n",
    "We should add a `.env` file to set the `FLASK_APP` environmental variable.  And use [dotenv](https://pypi.org/project/python-dotenv/) in the `__init__.py` file to load from `.env`."
   ]
  },
  {
   "cell_type": "markdown",
   "metadata": {},
   "source": [
    "**How to test it:**"
   ]
  },
  {
   "cell_type": "markdown",
   "metadata": {},
   "source": [
    "It's working properly if the only thing we need to run in the command line is the following:\n",
    "\n",
    "* `pip install -r requirements.txt`\n",
    "* `flask run`"
   ]
  },
  {
   "cell_type": "markdown",
   "metadata": {},
   "source": [
    "And then we can make a GET request to `/users` and see the following:"
   ]
  },
  {
   "cell_type": "markdown",
   "metadata": {},
   "source": [
    "<img src=\"./api-initial-docker.png\" width=\"60%\">"
   ]
  },
  {
   "cell_type": "code",
   "execution_count": 8,
   "metadata": {},
   "outputs": [
    {
     "data": {
      "text/plain": [
       "{'users': ['bart simpson']}"
      ]
     },
     "execution_count": 8,
     "metadata": {},
     "output_type": "execute_result"
    }
   ],
   "source": [
    "import requests \n",
    "response = requests.get('http://127.0.0.1:5000/users')\n",
    "response.json()"
   ]
  },
  {
   "cell_type": "markdown",
   "metadata": {},
   "source": [
    "### Our Dockerfile"
   ]
  },
  {
   "cell_type": "markdown",
   "metadata": {},
   "source": [
    "Now let's start to dockerize this application.  \n",
    "\n",
    "1. Explore a base image"
   ]
  },
  {
   "cell_type": "markdown",
   "metadata": {},
   "source": [
    "The first step is to explore a base image.  Start by pulling the `python:3.7.2-alpine` image.  The confirm that the image has been downloaded by listing the images."
   ]
  },
  {
   "cell_type": "markdown",
   "metadata": {},
   "source": [
    "`python              3.7.2-alpine        ...`"
   ]
  },
  {
   "cell_type": "markdown",
   "metadata": {},
   "source": [
    "Next, boot up a contianer of the image, and take a look inside of the `usr` directory inside of the image."
   ]
  },
  {
   "cell_type": "markdown",
   "metadata": {},
   "source": [
    "> You should see an output of the following:"
   ]
  },
  {
   "cell_type": "markdown",
   "metadata": {},
   "source": [
    "`bin    lib    local  sbin   share  src`"
   ]
  },
  {
   "cell_type": "markdown",
   "metadata": {},
   "source": [
    "Ok, so we'll want to build our Flask app inside of a new folder in our image called `/usr/src/app`. \n",
    "\n",
    "So try to get the application running in a docker image by moving the `requirements.txt` file to `/usr/src/app`, installing the packages and booting up the application."
   ]
  },
  {
   "cell_type": "markdown",
   "metadata": {},
   "source": [
    "> **Warning**: If we try to reach our Flask application by making a GET request to `/users`, we'll see that we cannot reach our API.  Still, we'll know we're making progress if we can build an image, and then upon running it we see the following:"
   ]
  },
  {
   "cell_type": "markdown",
   "metadata": {},
   "source": [
    "<img src=\"./flask-run-from-docker.png\" width=\"80%\">"
   ]
  },
  {
   "cell_type": "markdown",
   "metadata": {},
   "source": [
    "Now to be able to reach our API, we need to make sure we have two things properly set up.  The first is that we are mapping our ports from the container to the local machine."
   ]
  },
  {
   "cell_type": "markdown",
   "metadata": {},
   "source": [
    "The second think we'll need is to change the host from `127.0.0.1:5000` to `0.0.0.0`.  "
   ]
  },
  {
   "cell_type": "markdown",
   "metadata": {},
   "source": [
    "We can see the explanation for doing this in the following [stackoverflow post](https://stackoverflow.com/questions/39646474/how-to-run-python-flask-within-a-docker-container):\n",
    "\n",
    "\n",
    "> By default, Flask server is only accessible from the localhost. In your case, the container is the localhost, and your requests are originating from outside the container. host='0.0.0.0' parameter makes the server accessible from external IPs. It's described in Flask documentation in detail."
   ]
  },
  {
   "cell_type": "markdown",
   "metadata": {},
   "source": [
    "We can do this by changing the last line in our Dockerfile to the following:\n",
    "\n",
    "`CMD [\"python3\", \"-m\", \"flask\", \"run\", \"--host=0.0.0.0\"]`.\n"
   ]
  },
  {
   "cell_type": "markdown",
   "metadata": {},
   "source": [
    "And then rebuilding our image."
   ]
  },
  {
   "cell_type": "markdown",
   "metadata": {},
   "source": [
    "`docker build -t flask-api-docker`"
   ]
  },
  {
   "cell_type": "markdown",
   "metadata": {},
   "source": [
    "We should then be able to make a get request to port `0.0.0.0:5000` and see the list of users."
   ]
  },
  {
   "cell_type": "code",
   "execution_count": 5,
   "metadata": {},
   "outputs": [
    {
     "data": {
      "text/plain": [
       "{'users': ['bart simpson']}"
      ]
     },
     "execution_count": 5,
     "metadata": {},
     "output_type": "execute_result"
    }
   ],
   "source": [
    "import requests \n",
    "response = requests.get('http://0.0.0.0:5000/users')\n",
    "response.json()"
   ]
  },
  {
   "cell_type": "markdown",
   "metadata": {},
   "source": [
    "### Summary"
   ]
  },
  {
   "cell_type": "markdown",
   "metadata": {},
   "source": [
    "In this lesson, we set up a flask application, and built the related image and then built the related container."
   ]
  },
  {
   "cell_type": "markdown",
   "metadata": {},
   "source": [
    "### Resources\n",
    "\n",
    "[testdrive.io](https://testdriven.io/courses/microservices-with-docker-flask-and-react/part-one-docker-config/)\n",
    "\n",
    "[changing the base url](https://stackoverflow.com/questions/39646474/how-to-run-python-flask-within-a-docker-container)"
   ]
  }
 ],
 "metadata": {
  "kernelspec": {
   "display_name": "Python 3",
   "language": "python",
   "name": "python3"
  },
  "language_info": {
   "codemirror_mode": {
    "name": "ipython",
    "version": 3
   },
   "file_extension": ".py",
   "mimetype": "text/x-python",
   "name": "python",
   "nbconvert_exporter": "python",
   "pygments_lexer": "ipython3",
   "version": "3.9.1"
  }
 },
 "nbformat": 4,
 "nbformat_minor": 4
}
