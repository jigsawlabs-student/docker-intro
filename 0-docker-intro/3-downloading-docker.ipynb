{
 "cells": [
  {
   "cell_type": "markdown",
   "metadata": {},
   "source": [
    "# Downloading Docker"
   ]
  },
  {
   "cell_type": "markdown",
   "metadata": {},
   "source": [
    "### Introduction"
   ]
  },
  {
   "cell_type": "markdown",
   "metadata": {},
   "source": [
    "In the lessons that follow, we will primarily work with Docker on our local machine.  Let's spend this time to download Docker onto our computer."
   ]
  },
  {
   "cell_type": "markdown",
   "metadata": {},
   "source": [
    "### Signing up for Docker"
   ]
  },
  {
   "cell_type": "markdown",
   "metadata": {},
   "source": [
    "To download Docker we will first need to create a new user and login.  \n",
    "\n",
    "* Go to www.docker.com and click on the *Sign In* button towards the top right.\n",
    "* Unless you already have an account, click on the *Sign Up* link at the bottom right.\n",
    "* Now fill in the relevant information.  A docker id is just a docker username for you to choose."
   ]
  },
  {
   "cell_type": "markdown",
   "metadata": {},
   "source": [
    "<img src=\"./docker-signup.png\" width=\"50%\"/>"
   ]
  },
  {
   "cell_type": "markdown",
   "metadata": {},
   "source": [
    "Now go to your email, and activate your account.  Then login to Docker."
   ]
  },
  {
   "cell_type": "markdown",
   "metadata": {},
   "source": [
    "### Downloading Docker\n",
    "\n",
    "To download Docker, do the following:\n",
    "\n",
    "1. Google: `Download Docker for Mac` or [click here](https://docs.docker.com/docker-for-mac/install/)\n",
    "    * Or Windows, if applicable\n",
    "2. Click on *Download from Docker Hub*\n",
    "    * If you are not on the page below, [click here](https://hub.docker.com/editions/community/docker-ce-desktop-mac)\n",
    "    \n",
    "<img src=\"./download-docker-logged.png\" />\n",
    "\n",
    "Click on `Get Docker`.  This will begin Downloading a `Docker.dmg` file to the download folder."
   ]
  },
  {
   "cell_type": "markdown",
   "metadata": {},
   "source": [
    "We can see the rest of the installation instructions for installing Docker if we scroll down.\n",
    "\n",
    "> The only thing missing is to drag drag and drop Docker into the Applications folder when prompted."
   ]
  },
  {
   "cell_type": "markdown",
   "metadata": {},
   "source": [
    "<img src=\"./docker-installation-instructions.png\" />"
   ]
  },
  {
   "cell_type": "markdown",
   "metadata": {},
   "source": [
    "### Booting up Docker"
   ]
  },
  {
   "cell_type": "markdown",
   "metadata": {},
   "source": [
    "* Now look for the whale at the top of the screen.  If you don't see it, go to the Applications folder and click on Docker.  \n",
    "* You will see a whale with moving boxes appear on your computer's toolbar.  When the boxes stop moving, Docker has properly booted up.  \n",
    "* Now click on the whale in the toolbar, and then click on *Sign In / Create Docker ID*.  Enter your credentials in the prompt.\n",
    "* Now click on the whale again, and instead of *Sign In* you should see your user id."
   ]
  },
  {
   "cell_type": "markdown",
   "metadata": {},
   "source": [
    "To verify that everything is working properly, go to the terminal and type in the following: \n",
    "\n",
    "```\n",
    "docker version\n",
    "```"
   ]
  },
  {
   "cell_type": "markdown",
   "metadata": {},
   "source": [
    "### Installing Jupyter with Docker"
   ]
  },
  {
   "cell_type": "markdown",
   "metadata": {},
   "source": [
    "Now, just like we installed Jupyter with specific libraries on our AWS machine.  Let's do the same thing on our local machine.  We'll repeat the same commands.\n",
    "\n",
    "Type in the following to your terminal."
   ]
  },
  {
   "cell_type": "markdown",
   "metadata": {},
   "source": [
    "```\n",
    "docker pull jupyter/minimal-notebook\n",
    "```"
   ]
  },
  {
   "cell_type": "markdown",
   "metadata": {},
   "source": [
    "> If you get an `unauthorized error`, enter `docker login` to login via the terminal and enter your credentials."
   ]
  },
  {
   "cell_type": "markdown",
   "metadata": {},
   "source": [
    "Now you should again be pulling the image, just like you did on your EC2 machine.  After pulling the image, type in our next command:"
   ]
  },
  {
   "cell_type": "markdown",
   "metadata": {},
   "source": [
    "`docker run -p 8888:8888 jupyter/scipy-notebook`"
   ]
  },
  {
   "cell_type": "markdown",
   "metadata": {},
   "source": [
    "Once again, this boots up our image in a container, whatever that means, and then maps the port inside of the container to the port on our local machine.\n",
    "\n",
    "At this point, we should be able to visit `localhost:8888` and see the same Jupyter Notebook setup that we saw on our AWS machine."
   ]
  },
  {
   "cell_type": "markdown",
   "metadata": {},
   "source": [
    "### Summary"
   ]
  },
  {
   "cell_type": "markdown",
   "metadata": {},
   "source": [
    "In this lesson we saw how we can install Docker on our local machine.  We then saw how we can perform the same process to install the same software, or image, that we had on our EC2 instance.  Once we boot up our image in a container, we then have an environment that is identical to the one on our local machine. "
   ]
  }
 ],
 "metadata": {
  "kernelspec": {
   "display_name": "Python 3",
   "language": "python",
   "name": "python3"
  },
  "language_info": {
   "codemirror_mode": {
    "name": "ipython",
    "version": 3
   },
   "file_extension": ".py",
   "mimetype": "text/x-python",
   "name": "python",
   "nbconvert_exporter": "python",
   "pygments_lexer": "ipython3",
   "version": "3.8.6"
  }
 },
 "nbformat": 4,
 "nbformat_minor": 4
}
