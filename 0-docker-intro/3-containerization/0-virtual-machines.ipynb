{
 "cells": [
  {
   "cell_type": "markdown",
   "metadata": {},
   "source": [
    "# Virtual Machines"
   ]
  },
  {
   "cell_type": "markdown",
   "metadata": {},
   "source": [
    "### Introduction"
   ]
  },
  {
   "cell_type": "markdown",
   "metadata": {},
   "source": [
    "We have now seen bits and pieces of Docker.  If there is one thing to focus on, it is Docker's concept of containerization represented by both images and containers.  To really appreciate it, we need to understand the dominant technology before Docker and how containerization did things differently."
   ]
  },
  {
   "cell_type": "markdown",
   "metadata": {},
   "source": [
    "### A world before containers"
   ]
  },
  {
   "cell_type": "markdown",
   "metadata": {},
   "source": [
    "Before docker and containers were invented, working with environmental issues could be quite difficult.  The main task was to precisely replicate a computing environment across multiple computers.  This was required for multiple reasons such as:\n",
    "\n",
    "* To minimize unexpected differences between how a program works in development and in production\n",
    "* To minimize differences between the development environments of different individuals so that software is reproducable across team members"
   ]
  },
  {
   "cell_type": "markdown",
   "metadata": {},
   "source": [
    "This way, if a bug was influenced by an environmental issue, we could fix the issue one time, and ensure this fix would propagate on a different computer."
   ]
  },
  {
   "cell_type": "markdown",
   "metadata": {},
   "source": [
    "### Working in Virtual Environments"
   ]
  },
  {
   "cell_type": "markdown",
   "metadata": {},
   "source": [
    "The initial way that developers replicated a computing environment was through virtual machine."
   ]
  },
  {
   "cell_type": "markdown",
   "metadata": {},
   "source": [
    "[According to Wikipedia](https://en.wikipedia.org/wiki/Virtual_machine#Definitions), a virtual machine is defined as:\n",
    "\n",
    "> \"an efficient, isolated duplicate of a real computer machine.\" Current use includes virtual machines that have no direct correspondence to any real hardware. The physical, \"real-world\" hardware running the VM is generally referred to as the 'host', and the virtual machine emulated on that machine is generally referred to as the 'guest'"
   ]
  },
  {
   "cell_type": "markdown",
   "metadata": {},
   "source": [
    "Ok, let's make sure we understand some of the terminology from the above."
   ]
  },
  {
   "cell_type": "markdown",
   "metadata": {},
   "source": [
    "Below is a picture of a virtual machine."
   ]
  },
  {
   "cell_type": "markdown",
   "metadata": {},
   "source": [
    "<img src=\"./win-virtual-machine.png\" >"
   ]
  },
  {
   "cell_type": "markdown",
   "metadata": {},
   "source": [
    "So the host operating system is the Mac environment and the guest is Windows.  Below we have multiple guest windows virtual machines on a host windows environment."
   ]
  },
  {
   "cell_type": "markdown",
   "metadata": {},
   "source": [
    "<img src=\"./windows-windows.jpg\" />"
   ]
  },
  {
   "cell_type": "markdown",
   "metadata": {},
   "source": [
    "Now the benefits of using a virtual machine is that it is essentially a template for an operating system, just like an initial version of a Microsoft word document.  When we save that virtual environment, we can copy it just like we would a Microsoft Word file.  And this way we know when we build software, we can do so in an easily reproducible environment.\n",
    "\n",
    "Notice that this solves the problems we saw before.  We can ensure development environments are precisely the same as we can just copy them and place them on a new computer.  And we can do the same when we deploy software.  In addition, if we find an environmental bug we can make the fix once, and then save the environment to use going forward."
   ]
  },
  {
   "cell_type": "markdown",
   "metadata": {},
   "source": [
    "### Components of a Virtual Machine\n",
    "\n",
    "Now using a virtual machine involves a couple of key components that we should know about.  \n",
    "\n",
    "1. The operating system.  \n",
    "    * Each virtual machine comes with it's own operating system.  Just like each computer has one installation of an operating system (like Windows or Mac)\n",
    "\n",
    "2. The Kernel\n",
    "    *  A kernel is a running software process in charge of making physical changes to our computer (eg. like our hard drive)\n",
    "    * So for example, if we save a in Microsoft Word, Microsoft Word does not directly save the file to our hard drive, but rather asks the kernel to do so.\n",
    "   \n",
    "> **Kernels.  But why?**  Computers use kernels to make changes so that a kernel can prevent multiple programs from trying to alter the same parts of our computer at the same time.  Now with virtual machines, this becomes a problem as each virtual machine along with the host machine each has a separate kernel.  So there is actually a hypervisor that is the gateway between all of these kernels and the actual computer hardware.  "
   ]
  },
  {
   "cell_type": "markdown",
   "metadata": {},
   "source": [
    "<img src=\"./hypervisor-1.png\" width=\"30%\" />"
   ]
  },
  {
   "cell_type": "markdown",
   "metadata": {},
   "source": [
    "So the takeaway is that we can use virtual machines to operate multiple computing environments and with each computing environment there is both an operating system and a separate kernel dedicated  requesting changes to a computer's hardware.  It makes these requests to a hypervisor.   "
   ]
  },
  {
   "cell_type": "markdown",
   "metadata": {},
   "source": [
    "### Problems with Virtual Machines"
   ]
  },
  {
   "cell_type": "markdown",
   "metadata": {},
   "source": [
    "Now this virtual machine structure works fine, but it can tax a computer's resources.  Each time  we want an isolated environment we need a separate computing operating system with each operating system having a separate kernel.  Each operating system and kernel takes up space.  And starting up a new operating system takes time.\n",
    "\n",
    "So while it would be great if we could have software running in it's own isolated environment that was easily reproducible, to do so the time and space requirements would of an isolated environment would need to decrease.  That's the promise of Docker: create an isolated environment while limiting the speed and space requirements of each environment. "
   ]
  },
  {
   "cell_type": "markdown",
   "metadata": {},
   "source": [
    "### Summary"
   ]
  },
  {
   "cell_type": "markdown",
   "metadata": {},
   "source": [
    "In this lesson, we learned of a predecessor to containerization with virtual machines.  Virtuals helped to meet the need of creating an isolated and reproducible computing environment.  We learned that each virtual machine had it's own operating system with it's own kernel in charge of making changes to a computer's hardware.  \n",
    "\n",
    "We also saw that one of the downsides of a virtual machine is that creating a separate operating system prevents creating a new environment from being a lightweight process.  Creating a new environment requires both time to bootup the environment and space run and store the system.  Containers seek to provide the benefits of isolation while being lightweight. "
   ]
  }
 ],
 "metadata": {
  "kernelspec": {
   "display_name": "Python 3",
   "language": "python",
   "name": "python3"
  },
  "language_info": {
   "codemirror_mode": {
    "name": "ipython",
    "version": 3
   },
   "file_extension": ".py",
   "mimetype": "text/x-python",
   "name": "python",
   "nbconvert_exporter": "python",
   "pygments_lexer": "ipython3",
   "version": "3.8.6"
  }
 },
 "nbformat": 4,
 "nbformat_minor": 4
}
