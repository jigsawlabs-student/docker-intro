{
 "cells": [
  {
   "cell_type": "markdown",
   "id": "grateful-calcium",
   "metadata": {},
   "source": [
    "# Why Docker"
   ]
  },
  {
   "cell_type": "markdown",
   "id": "d2388187-2e88-4329-b863-6f1f1459051e",
   "metadata": {},
   "source": [
    "### Introduction"
   ]
  },
  {
   "cell_type": "markdown",
   "id": "0acb5d79-de8d-4dae-9922-2ab2e5962de4",
   "metadata": {},
   "source": [
    "Docker has become an extremely popular technology among programmers.  In fact, in Stackoverflow's 2020 survey, 35% of programmers said they used Docker, placing it above AWS (at 26%) and a MacOs (at 24%). In this lesson, we'll learn why Docker has become so popular over the past few years."
   ]
  },
  {
   "cell_type": "markdown",
   "id": "regulated-modification",
   "metadata": {},
   "source": [
    "### Just Getting Started"
   ]
  },
  {
   "cell_type": "markdown",
   "id": "occupied-raise",
   "metadata": {},
   "source": [
    "If you've tried to write code, then know that one of trickier components can be **simply to install the necessary software**.  For example, imagine that we wanted to add a blog to our website.  It turns out that an excellent blog called Ghost is available for us for [free on Github](https://github.com/TryGhost/Ghost)."
   ]
  },
  {
   "cell_type": "markdown",
   "id": "described-remains",
   "metadata": {},
   "source": [
    "<img src=\"./ghost-preview.jpg\" width=\"40%\">"
   ]
  },
  {
   "cell_type": "markdown",
   "id": "foreign-monthly",
   "metadata": {},
   "source": [
    "But if we wanted to download the codebase and get it up and running, think about all of the other technologies we would need to already have on our computer to make it work.  We would need a backend programming language (like Python) a database (like postgres), frontend software (eg. React), to set up our environmental variables.  And we would need to do all of this without making mistakes.\n",
    "\n",
    "As we'll see Docker will accomplish all of this for us.  It not only downloads the *code* to make a technology run, but all of the other dependencies that we listed above.  In other words, Docker sets up our coding environment to allow our software to run.  As this involves more than just having the right code on our computer -- it also involves all of the other components listed above."
   ]
  },
  {
   "cell_type": "markdown",
   "id": "threatened-outdoors",
   "metadata": {},
   "source": [
    "###  Modern Development Workflow "
   ]
  },
  {
   "cell_type": "markdown",
   "id": "2653d996-69fb-4844-9148-ac78c1751271",
   "metadata": {},
   "source": [
    "So one reason Docker is popular is because it just allows us to more easily set up complicated technologies.  Another reason has to do with the coding workflow."
   ]
  },
  {
   "cell_type": "markdown",
   "id": "checked-guatemala",
   "metadata": {},
   "source": [
    "<img src=\"./dev-production.jpg\" width=\"40%\">"
   ]
  },
  {
   "cell_type": "markdown",
   "id": "71eb92ae-31bc-4cd4-b24b-c6d6f897e8f7",
   "metadata": {},
   "source": [
    "Look at the bottom diagram labeled `development`.  That's diagram represents a programmer like us coding away on his laptop.  When he finishes building a feature, or fixing a bug, he then wants to take the code from his laptop and push it up to the production servers -- as the production server is how the end user will access the code.\n",
    "\n",
    "So programmers write code locally on their laptop and then move that code to a production computer -- like one housed by Amazon seen below -- so that users can view their code."
   ]
  },
  {
   "cell_type": "markdown",
   "id": "pleasant-domestic",
   "metadata": {},
   "source": [
    "> <img src=\"./aws-server.jpeg\" width=\"60%\">"
   ]
  },
  {
   "cell_type": "markdown",
   "id": "9f68f789-7e12-4f8c-ae82-2e4d6a1ff53b",
   "metadata": {},
   "source": [
    "When moving code from a developer's laptop (called development) to a production server it's important that our coding environment is exactly the same.  It's bad news if we write code for one version of a database, and it turns out our production environment uses a different version of that database.  Docker -- because it sets up our environment -- can help us to ensure that the environment on our laptop and on the production server are identical -- or at least very similar.  And this allows us to avoid problems in production."
   ]
  },
  {
   "cell_type": "markdown",
   "id": "bce21917-d51d-4582-87f8-e83a154f2dbb",
   "metadata": {},
   "source": [
    "And it turns out that with the modern coding workflow the goal is to safely push our code to production quite often, so ensuring tat our development environment matches our production environment is quite valuable."
   ]
  },
  {
   "cell_type": "markdown",
   "id": "cordless-trademark",
   "metadata": {},
   "source": [
    "### Summary"
   ]
  },
  {
   "cell_type": "markdown",
   "id": "solid-helmet",
   "metadata": {},
   "source": [
    "In this lesson we learned that Docker allows for an automated way to set up a computer necessary to run software.  As we saw this is important just for setting up and working with complicated pieces of software, and it's also useful for taking our development environment and mimicing that environment in production.  Over the next series of lessons, we'll learn how Docker accomplishes this, and how we can effectively use Docker."
   ]
  }
 ],
 "metadata": {
  "kernelspec": {
   "display_name": "Python 3 (ipykernel)",
   "language": "python",
   "name": "python3"
  },
  "language_info": {
   "codemirror_mode": {
    "name": "ipython",
    "version": 3
   },
   "file_extension": ".py",
   "mimetype": "text/x-python",
   "name": "python",
   "nbconvert_exporter": "python",
   "pygments_lexer": "ipython3",
   "version": "3.10.6"
  }
 },
 "nbformat": 4,
 "nbformat_minor": 5
}
