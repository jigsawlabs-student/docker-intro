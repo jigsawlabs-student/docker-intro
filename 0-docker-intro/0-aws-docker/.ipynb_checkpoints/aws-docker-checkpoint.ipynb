{
 "cells": [
  {
   "cell_type": "markdown",
   "metadata": {},
   "source": [
    "# Setting Up Docker"
   ]
  },
  {
   "cell_type": "markdown",
   "metadata": {},
   "source": [
    "### Introduction"
   ]
  },
  {
   "cell_type": "markdown",
   "metadata": {},
   "source": [
    "In this lesson, we'll see how to install docker on our EC2 instance."
   ]
  },
  {
   "cell_type": "markdown",
   "metadata": {},
   "source": [
    "### Installing Docker"
   ]
  },
  {
   "cell_type": "markdown",
   "metadata": {},
   "source": [
    "Let's get started with installing Docker on our machine.  We can begin by logging into our EC2 instance.  Navigate to the folder that has the relevant `.pem` file, and connect to the EC2 instance.  For me, this is performed with the following:\n",
    "\n",
    "```\n",
    "cd ~/.ssh\n",
    "ssh ds-setup\n",
    "```"
   ]
  },
  {
   "cell_type": "markdown",
   "metadata": {},
   "source": [
    "Once logged in, we can download Docker through the shell with the following commands.\n",
    "\n",
    "1. Update the packages on the instance\n",
    "```\n",
    "sudo yum update -y\n",
    "```\n",
    "\n",
    "2. Install docker\n",
    "```\n",
    "sudo yum install docker -y\n",
    "```\n",
    "\n",
    "3. Start the docker service\n",
    "```\n",
    "sudo service docker start\n",
    "```"
   ]
  },
  {
   "cell_type": "markdown",
   "metadata": {},
   "source": [
    "4. Add the ec2-user to the docker group so you can execute Docker commands without using sudo."
   ]
  },
  {
   "cell_type": "markdown",
   "metadata": {},
   "source": [
    "```\n",
    "sudo usermod -a -G docker ec2-user\n",
    "```"
   ]
  },
  {
   "cell_type": "markdown",
   "metadata": {},
   "source": [
    "Then type:\n",
    "\n",
    "`sudo reboot`"
   ]
  },
  {
   "cell_type": "markdown",
   "metadata": {},
   "source": [
    "This reboot disconnects us from the EC2 machine, so let's reconnect and see if it worked."
   ]
  },
  {
   "cell_type": "markdown",
   "metadata": {},
   "source": [
    "```\n",
    "ssh ds-setup\n",
    "```"
   ]
  },
  {
   "cell_type": "markdown",
   "metadata": {},
   "source": [
    "```\n",
    "docker version\n",
    "```"
   ]
  },
  {
   "cell_type": "markdown",
   "metadata": {},
   "source": [
    "If we typed in docker and did not need to use sudo, the fix is in."
   ]
  },
  {
   "cell_type": "markdown",
   "metadata": {},
   "source": [
    "## Installing Software with Docker"
   ]
  },
  {
   "cell_type": "markdown",
   "metadata": {},
   "source": [
    "Now that docker is installed, and setup, let's see how easily we can install Jupyter and other libraries on our machine."
   ]
  },
  {
   "cell_type": "markdown",
   "metadata": {},
   "source": [
    "First, let's delete our previously installed version of anaconda.  We'll no longer need it."
   ]
  },
  {
   "cell_type": "markdown",
   "metadata": {},
   "source": [
    "`rm -rf anaconda3`"
   ]
  },
  {
   "cell_type": "markdown",
   "metadata": {},
   "source": [
    "Then type in the following: "
   ]
  },
  {
   "cell_type": "markdown",
   "metadata": {},
   "source": [
    "`docker pull jupyter/scipy-notebook`"
   ]
  },
  {
   "cell_type": "markdown",
   "metadata": {},
   "source": [
    "We can verify that the image -- whatever that is -- was downloaded by typing in: "
   ]
  },
  {
   "cell_type": "markdown",
   "metadata": {},
   "source": [
    "`docker images --all`\n",
    "\n",
    "```\n",
    "REPOSITORY               TAG      IMAGE ID        CREATED       SIZE \n",
    "jupyter/scipy-notebook   latest   844815ed865e    3 weeks ago   3.47GB\n",
    "```"
   ]
  },
  {
   "cell_type": "markdown",
   "metadata": {},
   "source": [
    "Now we can start the image with the following: "
   ]
  },
  {
   "cell_type": "markdown",
   "metadata": {},
   "source": [
    "`docker run -p 8888:8888 jupyter/scipy-notebook`"
   ]
  },
  {
   "cell_type": "markdown",
   "metadata": {},
   "source": [
    "```\n",
    "Or copy and paste one of these URLs:\n",
    "     http://11027331b146:8888/?token=1340183312adb5283efa52171a4cd069e086c3882f275bb2\n",
    "     or http://127.0.0.1:8888/?token=1340183312adb5283efa52171a4cd069e086c3882f275bb2\n",
    "```"
   ]
  },
  {
   "cell_type": "markdown",
   "metadata": {},
   "source": [
    "This `docker run -p` is difficult to explain at this point, but it essentially boots up our image and exposes the port in the walled off container where docker is running to the EC2 machine.  We still need to forward the EC2 machine's port to our local machine.  We can do so with the following line:"
   ]
  },
  {
   "cell_type": "markdown",
   "metadata": {},
   "source": [
    "`ssh -i /path/to/your/AWS/key/file -NL 8157:localhost:8888 user@host`"
   ]
  },
  {
   "cell_type": "markdown",
   "metadata": {},
   "source": [
    "So for me, it's the following: "
   ]
  },
  {
   "cell_type": "markdown",
   "metadata": {},
   "source": [
    "`ssh -i \"ds_setup.pem\" ec2-3-17-144-5.us-east-2.compute.amazonaws.com -Nl 8157:localhost:8888`"
   ]
  },
  {
   "cell_type": "markdown",
   "metadata": {},
   "source": [
    "The `8157` is the port we will use on our local machine to access the `8888` port on the EC2 machine.  So now, in our browser, we navigate to the url we saw after our `docker run -p` command, except replace the beginning part of the url until the questionmark, with:\n",
    "\n",
    "`http://localhost:8157/`"
   ]
  },
  {
   "cell_type": "markdown",
   "metadata": {},
   "source": [
    "The token is on the end. "
   ]
  },
  {
   "cell_type": "markdown",
   "metadata": {},
   "source": [
    "<img src=\"./url-with-token.png\" width=\"80%\" /> "
   ]
  },
  {
   "cell_type": "markdown",
   "metadata": {},
   "source": [
    "If you see something like the following, congrats, we are using AWS with docker. "
   ]
  },
  {
   "cell_type": "markdown",
   "metadata": {},
   "source": [
    "### So Why Docker?"
   ]
  },
  {
   "cell_type": "markdown",
   "metadata": {},
   "source": [
    "Docker allowed us to setup our machine with preconfigured software.  Once we had docker on our machine, we simply had to run `docker pull jupyter/scipy-notebook` to both download Jupyter as well as datascience libraries like `scipy` and `scikit-learn`.  As our environment requirements on EC2 become more complicated, leaning on Docker will help us to ensure that each of our environments is setup precisely the same way, and that we can more easily setup an environment.  \n",
    "\n",
    "We of course, need to learn a lot more about Docker, and we'll spend the next several sections doing so."
   ]
  },
  {
   "cell_type": "markdown",
   "metadata": {},
   "source": [
    "### Summary"
   ]
  },
  {
   "cell_type": "markdown",
   "metadata": {},
   "source": [
    "In this lesson, we saw how we can setup an AWS machine to use Docker.  We saw one of the main benefits of Docker which is that it automates our environment setup.  This becomes important as our environments become more complicated, and as we need to setup identical environments to reproduce our processes.\n",
    "\n",
    "Even though we made use of Docker, we rushed through much of the explanation about what Docker is, what are the different commands and features of Docker that we need to learn.  We'll spend the next several sections walking through the components of Docker."
   ]
  },
  {
   "cell_type": "markdown",
   "metadata": {},
   "source": [
    "### Resources"
   ]
  },
  {
   "cell_type": "markdown",
   "metadata": {},
   "source": [
    "[Stackoverflow Docker EC2](https://serverfault.com/questions/836198/how-to-install-docker-on-aws-ec2-instance-with-ami-ce-ee-update)"
   ]
  }
 ],
 "metadata": {
  "kernelspec": {
   "display_name": "Python 3",
   "language": "python",
   "name": "python3"
  },
  "language_info": {
   "codemirror_mode": {
    "name": "ipython",
    "version": 3
   },
   "file_extension": ".py",
   "mimetype": "text/x-python",
   "name": "python",
   "nbconvert_exporter": "python",
   "pygments_lexer": "ipython3",
   "version": "3.8.3"
  }
 },
 "nbformat": 4,
 "nbformat_minor": 4
}
