{
 "cells": [
  {
   "cell_type": "markdown",
   "metadata": {},
   "source": [
    "# Working with Docker Playground"
   ]
  },
  {
   "cell_type": "markdown",
   "metadata": {},
   "source": [
    "### Introduction"
   ]
  },
  {
   "cell_type": "markdown",
   "metadata": {},
   "source": [
    "One of the easier ways to get started with Docker is using the Docker playground.  The docker playground is a website that has Docker already installed for us.  \n",
    "\n",
    "Let's get started."
   ]
  },
  {
   "cell_type": "markdown",
   "metadata": {},
   "source": [
    "### Signing Up"
   ]
  },
  {
   "cell_type": "markdown",
   "metadata": {},
   "source": [
    "To get started, we'll need to visit the website and sign up for an account.  \n",
    "\n",
    "1. To begin, go play with docker by [clicking here.](https://labs.play-with-docker.com/)\n",
    "\n",
    "2. If you do not have a docker account or are not logged in, click on the login button and select `docker`.\n",
    "\n",
    "3. You will be taken to a login page.  If you have not previously registered for docker click the `Sign Up` button on the bottom right."
   ]
  },
  {
   "cell_type": "markdown",
   "metadata": {},
   "source": [
    "<img src=\"./signup.png\" width=\"40%\">"
   ]
  },
  {
   "cell_type": "markdown",
   "metadata": {},
   "source": [
    "4. All you need to Sign Up is a username, an email address and password.\n",
    "\n",
    "> You will be asked to verify your email address, so make sure you use one you have access to.  And you'll later be asked to login with your username and password."
   ]
  },
  {
   "cell_type": "markdown",
   "metadata": {},
   "source": [
    "6. After you signup, confirm your email address, and then return to the [play with docker website.](https://labs.play-with-docker.com/)"
   ]
  },
  {
   "cell_type": "markdown",
   "metadata": {},
   "source": [
    "7. This time, login with your username and password."
   ]
  },
  {
   "cell_type": "markdown",
   "metadata": {},
   "source": [
    "<img src=\"./signup.png\" width=\"40%\">"
   ]
  },
  {
   "cell_type": "markdown",
   "metadata": {},
   "source": [
    "5. If prompted, choose the free option."
   ]
  },
  {
   "cell_type": "markdown",
   "metadata": {},
   "source": [
    "<img src=\"./free-option.png\" width=\"20%\">"
   ]
  },
  {
   "cell_type": "markdown",
   "metadata": {},
   "source": [
    "7. If you sign in correctly, you'll see the following screen."
   ]
  },
  {
   "cell_type": "markdown",
   "metadata": {},
   "source": [
    "<img src=\"./click-add-new-instance.png\" width=\"40%\">"
   ]
  },
  {
   "cell_type": "markdown",
   "metadata": {},
   "source": [
    "8. Click on the `Add New Instance` button, which will set up your environment with docker installed."
   ]
  },
  {
   "cell_type": "markdown",
   "metadata": {},
   "source": [
    "9.  After doing so, you will see the following:"
   ]
  },
  {
   "cell_type": "markdown",
   "metadata": {},
   "source": [
    "<img src=\"./playground-terminal.png\" width=\"60%\">"
   ]
  },
  {
   "cell_type": "markdown",
   "metadata": {},
   "source": [
    "10. The terminal to the right has docker pre-installed for us.  We can start by clicking on the terminal, typing `docker` and then pressing return."
   ]
  },
  {
   "cell_type": "markdown",
   "metadata": {},
   "source": [
    "<img src=\"./playground-terminal-1.png\" width=\"40%\">"
   ]
  },
  {
   "cell_type": "markdown",
   "metadata": {},
   "source": [
    "If we press return, it will begin pulling the minimal notebook."
   ]
  },
  {
   "cell_type": "markdown",
   "metadata": {},
   "source": [
    "### Summary"
   ]
  },
  {
   "cell_type": "markdown",
   "metadata": {},
   "source": [
    "In this lesson, we saw how we can get started with the [play with docker](https://labs.play-with-docker.com/) environment.  The main steps were to register for docker and then to click add new instance.  Upon doing so, we then had the docker commands available to us, and got started with the command `docker pull jupyter/minimal-notebook`.  In the next lessons, you can follow in this environment."
   ]
  }
 ],
 "metadata": {
  "kernelspec": {
   "display_name": "Python 3",
   "language": "python",
   "name": "python3"
  },
  "language_info": {
   "codemirror_mode": {
    "name": "ipython",
    "version": 3
   },
   "file_extension": ".py",
   "mimetype": "text/x-python",
   "name": "python",
   "nbconvert_exporter": "python",
   "pygments_lexer": "ipython3",
   "version": "3.8.3"
  }
 },
 "nbformat": 4,
 "nbformat_minor": 4
}
