{
 "cells": [
  {
   "cell_type": "markdown",
   "metadata": {},
   "source": [
    "### Analogy for images and containers"
   ]
  },
  {
   "cell_type": "markdown",
   "metadata": {},
   "source": [
    "An image is like the creating the stage and containers are like putting actors in that stage.\n",
    "\n",
    "### Containerization\n",
    "\n",
    "* distributing and deploying applications in a portable and predictable way. \n",
    "*  Docker helps in standardising the application deployment in various environments \n",
    "\n",
    "* Portability\n",
    "    * All dependencies are bundled in the container, so containers can run on any infrastructure\n",
    "    \n",
    "* Predictability\n",
    "    * Because container is isolated and controlled environment, more predictable\n",
    "\n",
    "### Docker images\n",
    "\n",
    "* Images built from a DockerFile, that specifies all of the elements "
   ]
  },
  {
   "cell_type": "markdown",
   "metadata": {},
   "source": [
    " - share and setup dependencies for a project without conflicting with other software.  \n",
    "\n",
    "Think about what this means:\n",
    "\n",
    "* Instead of using Github to download Python code, we can go to Github or Dockerhub to setup code for an entire environment\n",
    "* Instead of creating a different Python environment to avoid conflicting Python code, we avoid conflicts with software like Postgres, or Anaconda as well\n",
    "* Instead of script to install Python software, we have scripts to install all necessary software for an environment"
   ]
  },
  {
   "cell_type": "markdown",
   "metadata": {},
   "source": [
    "Docker CLI\n",
    "Docker Hub, and reached out to an Image\n",
    "\n",
    "Image \n",
    "    * A single file\n",
    "Container\n",
    "    * An instance of an image\n",
    "    * Program with own isolated set of hard drive resources"
   ]
  },
  {
   "cell_type": "markdown",
   "metadata": {},
   "source": [
    "* Docker Client\n",
    "* Docker Machine \n",
    "* Docker Server\n",
    "* Docker Images\n",
    "* Docker Hub\n"
   ]
  }
 ],
 "metadata": {
  "kernelspec": {
   "display_name": "Python 3",
   "language": "python",
   "name": "python3"
  },
  "language_info": {
   "codemirror_mode": {
    "name": "ipython",
    "version": 3
   },
   "file_extension": ".py",
   "mimetype": "text/x-python",
   "name": "python",
   "nbconvert_exporter": "python",
   "pygments_lexer": "ipython3",
   "version": "3.8.3"
  }
 },
 "nbformat": 4,
 "nbformat_minor": 4
}
