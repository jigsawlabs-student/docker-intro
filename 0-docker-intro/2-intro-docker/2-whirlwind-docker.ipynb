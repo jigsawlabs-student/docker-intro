{
 "cells": [
  {
   "cell_type": "markdown",
   "metadata": {},
   "source": [
    "# A Whirlwind tour of Docker"
   ]
  },
  {
   "cell_type": "markdown",
   "metadata": {},
   "source": [
    "### Introduction"
   ]
  },
  {
   "cell_type": "markdown",
   "metadata": {},
   "source": [
    "So that now that we've downloaded the docker software,  let's give it a spin.  We'll get to know Docker by beginning with it's command line interface, and seeing how we can use Docker."
   ]
  },
  {
   "cell_type": "markdown",
   "metadata": {},
   "source": [
    "### A step back"
   ]
  },
  {
   "cell_type": "markdown",
   "metadata": {},
   "source": [
    "Before diving into Docker, let's lean on some of the information we already know about setting up an environment and the software that helps us do so.  After all, we have already worked through some workflows for setting up a Python environment.\n",
    "\n",
    "When we download someone's project and set it up, think about some of the steps that we move through:\n",
    "\n",
    "1. Download a project from Github if available there\n",
    "    * We do this so that we don't have to write all of the code ourselves\n",
    "2. Create a new Python environment\n",
    "    * We do this so that Python software already installed do not conflict with our project\n",
    "3. Install the packages listed in `requirements.txt`\n",
    "    * We do this so that the software dependencies are there\n",
    "    * And so that we don't have to perform these steps manually"
   ]
  },
  {
   "cell_type": "markdown",
   "metadata": {},
   "source": [
    "So with these components we can share our project, quickly download code for the project, create a new Python environment so that our software requirements do not conflict with other requirements, and use a file that automates setup for us.\n",
    "\n",
    "With Docker, we achieve the same goals.  The only difference is that this time we do not just do this for with Python software, but all of the software (except the operating system).  "
   ]
  },
  {
   "cell_type": "markdown",
   "metadata": {},
   "source": [
    "### Applying our Steps In Docker"
   ]
  },
  {
   "cell_type": "markdown",
   "metadata": {},
   "source": [
    "In setting up our environment in Docker, we did two main steps:\n",
    "\n",
    "`docker pull jupyter/scipy-notebook`\n",
    "\n",
    "`docker run -p 8888:8888 jupyter/scipy-notebook`"
   ]
  },
  {
   "cell_type": "markdown",
   "metadata": {},
   "source": [
    "The first step `docker pull jupyter/scipy-notebook` is similar to pulling our code from github.  In fact, we run `docker pull jupyter/scipy-notebook` docker looks for the relevant code in a repository on dockerhub.\n",
    "\n",
    "[Here](https://hub.docker.com/r/jupyter/scipy-notebook/) is the repo on DockerHub.\n",
    "\n",
    "If we click on the `DockerFile` tab, we can see the main file in the repository."
   ]
  },
  {
   "cell_type": "markdown",
   "metadata": {},
   "source": [
    "<img src=\"./jupyter-scipy.png\" /> "
   ]
  },
  {
   "cell_type": "markdown",
   "metadata": {},
   "source": [
    "We will walk through each of the commands in a Dockerfile, but for now, we just need to understand the purpose of this file.  The `Dockerfile` is similar to the `requirements.txt` file we have seen previously.  It tells our environment the different libraries and versions to install.  \n",
    "\n",
    "When we run `docker pull jupyter/scipy-notebook` we are downloading a docker image.  A docker image is a concept that we will explore deeper in future lessons.  But an image is essentially a pristine environment stored in our computer.\n",
    "\n",
    "By pulling the image, we have already installed the relevant software on our computer."
   ]
  },
  {
   "cell_type": "markdown",
   "metadata": {},
   "source": [
    "### Isolated Environments"
   ]
  },
  {
   "cell_type": "markdown",
   "metadata": {},
   "source": [
    "So we already have seen how Docker has components like DockerHub which is similar to github, and a Dockerfile that is similar to a `requirements.txt` file, except for our entire environment.  The final big piece of Docker is that it isolates environments with both images and containers.\n",
    "\n",
    "> **Warning**: We'll dedicate entire lessons to understanding images and containers.  So if you leave this section a little confused, that's ok.\n",
    "\n",
    "If we have docker installed locally, we can see an example of this by pulling the scipy-notebook image onto our local computer and then running it in a new container."
   ]
  },
  {
   "cell_type": "markdown",
   "metadata": {},
   "source": [
    "`docker run jupyter/scipy-notebook`\n",
    "\n",
    "```\n",
    "Executing the command: jupyter notebook\n",
    "[I 15:28:01.803 NotebookApp] Writing notebook server cookie secret to /home/jovyan/.local/share/jupyter/runtime/notebook_cookie_secret\n",
    "\n",
    "Or copy and paste one of these URLs:\n",
    "\n",
    "http://e66b4bbddc04:8888/?token=9c801825e1725c861e9d28566e89a2d3794a273efd191523\n",
    "or http://127.0.0.1:8888/?token=9c801825e1725c861e9d28566e89a2d3794a273efd191523\n",
    "```"
   ]
  },
  {
   "cell_type": "markdown",
   "metadata": {},
   "source": [
    "Now we have our container running, but as we'll notice, our container is still walled off from the rest of our computer.  This helps to avoid conflicts in the software, or configurations in our computer that can unintentionally alter our environment.\n",
    "\n",
    "So for example, if we go to the url that we see on the screen.  We cannot."
   ]
  },
  {
   "cell_type": "markdown",
   "metadata": {},
   "source": [
    "<img src=\"./site-cannot-be-reached.png\" width=\"80%\" />"
   ]
  },
  {
   "cell_type": "markdown",
   "metadata": {},
   "source": [
    "So even though our image is booted up and running, it is still walled off in a container from the rest of our computer.  We can, of course, access our container, we just need to be explicit that we wish to do so.\n",
    "\n",
    "So let's shutdown our container by pressing `ctl + c` in our terminal.\n",
    "\n",
    "And this time, when we boot up our image into a new container we will expose a port in the container to a port in the rest of our computer. \n",
    "\n",
    "`docker run -p 8157:8888 jupyter/scipy-notebook`"
   ]
  },
  {
   "cell_type": "markdown",
   "metadata": {},
   "source": [
    "This takes the port on our local machine, `8157` and exposes it to the port in the container `8888` where Jupyter is running.  So now, if we copy and paste the url where Jupyter is running but replace `8888` with `8157` we can access the container."
   ]
  },
  {
   "cell_type": "markdown",
   "metadata": {},
   "source": [
    "## Summary"
   ]
  },
  {
   "cell_type": "markdown",
   "metadata": {},
   "source": [
    "In this lesson we saw some of the major features of Docker.  We saw that we can view public Docker projects on Dockerhub, similarly to how we have github.  And we can pull down those projects by running `docker pull project_name`.  We saw that the main file in repository is the `Dockerfile` which specifies the setup for an image, similarly to a `requirements.txt` file for Python.\n",
    "\n",
    "Then we entered our first discussion of images and containers.  When we run `docker pull project_name`, we build an image onto our computer -- which sets up the proper software in a pristine, untouched environment.  But we cannot use this environment until we boot it up into a container.  We boot up our image into a container with `docker run image_name`.  Finally, because our container is walled off from the rest of the computer, we can access that conatainer's port with `docker run -p local_port:container_port image_name`.   "
   ]
  },
  {
   "cell_type": "markdown",
   "metadata": {},
   "source": [
    "### Resources \n",
    "[Docker for Windows](https://towardsdatascience.com/make-your-data-science-life-easy-with-docker-c3e1fc0dee59)"
   ]
  },
  {
   "cell_type": "markdown",
   "metadata": {},
   "source": [
    "[Docker Curriculum](https://docker-curriculum.com/)"
   ]
  }
 ],
 "metadata": {
  "kernelspec": {
   "display_name": "Python 3",
   "language": "python",
   "name": "python3"
  },
  "language_info": {
   "codemirror_mode": {
    "name": "ipython",
    "version": 3
   },
   "file_extension": ".py",
   "mimetype": "text/x-python",
   "name": "python",
   "nbconvert_exporter": "python",
   "pygments_lexer": "ipython3",
   "version": "3.8.3"
  }
 },
 "nbformat": 4,
 "nbformat_minor": 4
}
