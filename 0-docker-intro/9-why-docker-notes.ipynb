{
 "cells": [
  {
   "cell_type": "markdown",
   "metadata": {},
   "source": [
    "# Why Docker"
   ]
  },
  {
   "cell_type": "markdown",
   "metadata": {},
   "source": [
    "### Keeping it Isolated"
   ]
  },
  {
   "cell_type": "markdown",
   "metadata": {},
   "source": [
    "Before Docker, we had virtual machines:"
   ]
  },
  {
   "cell_type": "markdown",
   "metadata": {},
   "source": [
    "A virtual machine is:\n",
    "\n",
    "> \"an efficient, isolated duplicate of a real computer machine.\"\n",
    "\n",
    "> [Wikipedia](https://en.wikipedia.org/wiki/Virtual_machine#Definitions)"
   ]
  },
  {
   "cell_type": "markdown",
   "metadata": {},
   "source": [
    "Below is an image of a Windows virtual machine operating inside of a Mac.  "
   ]
  },
  {
   "cell_type": "markdown",
   "metadata": {},
   "source": [
    "<img src=\"./win-virtual-machine.png\" width=\"40%\">"
   ]
  },
  {
   "cell_type": "markdown",
   "metadata": {},
   "source": [
    "* **host**\n",
    "\n",
    "**guest**.  \n",
    "\n",
    "> host provides the underlying hardware and computing resources to support a particular guest virtual machine.\n",
    "\n",
    "Downsides of a VM.  \n",
    "1.\n",
    "\n",
    "2.\n",
    "\n",
    "\n",
    "Docker Goal:\n",
    "\n",
    "> Create an isolated environment while limiting the speed and space requirements of each environment. "
   ]
  },
  {
   "cell_type": "markdown",
   "metadata": {},
   "source": [
    "### How Docker Maintains this Balance"
   ]
  },
  {
   "cell_type": "markdown",
   "metadata": {},
   "source": [
    "Isolated environment for each individual task, *without* creating a separate virtual machine.\n",
    "\n",
    "How Docker does it:"
   ]
  },
  {
   "cell_type": "markdown",
   "metadata": {},
   "source": [
    "### 1. A union filesystem  \n",
    "\n",
    "Union filesystems were used in the days of CDs.  "
   ]
  },
  {
   "cell_type": "markdown",
   "metadata": {},
   "source": [
    "<img src=\"./directories.png\">"
   ]
  },
  {
   "cell_type": "markdown",
   "metadata": {},
   "source": [
    "Now imagine that we want to edit a chapter that was on that CD...If we were to edit the CD...\n",
    "\n",
    "\n",
    "*copy-on-write*. "
   ]
  },
  {
   "cell_type": "markdown",
   "metadata": {},
   "source": [
    "<img src=\"./harry_copy_on_write.png\" width=\"40%\">"
   ]
  },
  {
   "cell_type": "markdown",
   "metadata": {},
   "source": [
    "This is a **union file system**.  \n",
    "\n",
    "> A union filesystem allows computer contents to be seen as under a cohesive directory even if they live elsewhere, and used by another resource.  The contents are read only.  Any changes made are performed by first copying the relevant file and then making the edit."
   ]
  },
  {
   "cell_type": "markdown",
   "metadata": {},
   "source": [
    "Docker uses the union filesystem so that different images share overlapping pieces of software.  \n",
    "\n",
    "If we make any changes to the Python codebase, then Docker would perform a copy on write."
   ]
  },
  {
   "cell_type": "markdown",
   "metadata": {},
   "source": [
    "```\n",
    "latest: Pulling from library/ghost\n",
    "d121f8d1c412: Already exists\n",
    "3a54a24e4e59: Already exists\n",
    "8aa65a634fc0: Already exists\n",
    "7634d710af87: Already exists\n",
    "ec150ee2ad17: Already exists\n",
    "8d63bf0b1e87: Already exists\n",
    "2f2b08fee21d: Already exists\n",
    "c90a3cd5a740: Already exists\n",
    "8d1c1d735844: Already exists\n",
    "Digest: sha256:d36769ce35d3ad3c868a359ad48d9a0b37f886ef4df3571c54936beb4c23689e\n",
    "Status: Downloaded newer image for ghost:latest\n",
    "docker.io/library/ghost:latest\n",
    "```"
   ]
  },
  {
   "cell_type": "markdown",
   "metadata": {},
   "source": [
    "### Containers"
   ]
  },
  {
   "cell_type": "markdown",
   "metadata": {},
   "source": [
    "In fact the difference between an image and a container, is simply that there is another layer added on top of the image.  We simply add another layer on top to allow us to make certain changes if need be.  Meanwhile, the underlying images on are read only.  Let's take a look at a diagram of the architecture."
   ]
  },
  {
   "cell_type": "markdown",
   "metadata": {},
   "source": [
    "<img src=\"./copy-on-write-container.png\" width=\"30%\">"
   ]
  },
  {
   "cell_type": "markdown",
   "metadata": {},
   "source": [
    "Any changes are made by the copy on write.  \n",
    "\n",
    "So this is how Docker makes the *files* required by each container appear isolated.  But it also must make any processes in the container appear isolated -- and it does this with namespaces."
   ]
  },
  {
   "cell_type": "markdown",
   "metadata": {},
   "source": [
    "### 2. Namespaces\n",
    "\n",
    "A namespace is just a folder. \n",
    "\n",
    "Docker uses the namespacing features in Linux to keep software and processes isolated where they needs to be.  And it can achieve this without a separate virtual machine for each piece of software.  "
   ]
  },
  {
   "cell_type": "markdown",
   "metadata": {},
   "source": [
    "### Resources\n",
    "\n",
    "[Cgroups and Linux Containers](https://www.youtube.com/watch?v=el7768BNUPw)\n",
    "\n",
    "[Understanding Docker Internals](https://medium.com/@nagarwal/understanding-the-docker-internals-7ccb052ce9fe)\n",
    "\n",
    "[Docker Namespace and Cgroups](https://medium.com/@kasunmaduraeng/docker-namespace-and-cgroups-dece27c209c7)\n",
    "\n",
    "[Docker Containers and Filesystem](https://medium.com/@nagarwal/docker-containers-filesystem-demystified-b6ed8112a04a)"
   ]
  }
 ],
 "metadata": {
  "kernelspec": {
   "display_name": "Python 3",
   "language": "python",
   "name": "python3"
  },
  "language_info": {
   "codemirror_mode": {
    "name": "ipython",
    "version": 3
   },
   "file_extension": ".py",
   "mimetype": "text/x-python",
   "name": "python",
   "nbconvert_exporter": "python",
   "pygments_lexer": "ipython3",
   "version": "3.8.6"
  }
 },
 "nbformat": 4,
 "nbformat_minor": 4
}
