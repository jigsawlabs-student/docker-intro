{
 "cells": [
  {
   "cell_type": "markdown",
   "metadata": {},
   "source": [
    "# Docker Run Command"
   ]
  },
  {
   "cell_type": "markdown",
   "metadata": {},
   "source": [
    "`docker version`"
   ]
  },
  {
   "cell_type": "markdown",
   "metadata": {},
   "source": [
    "Now write up the first meaningful command to the docker client or CLI"
   ]
  },
  {
   "cell_type": "markdown",
   "metadata": {},
   "source": [
    "`docker run hello-world`"
   ]
  },
  {
   "cell_type": "markdown",
   "metadata": {},
   "source": [
    "So when we run this \n",
    "    * There is an image with a file system snapshot, and with docker run hello world, we stuck the image into a grouing of resourcs, and then ran the process hello world, and then this exited\n",
    "    \n"
   ]
  },
  {
   "cell_type": "markdown",
   "metadata": {},
   "source": [
    "This starts the docker client, and then communicating to the docker server which is the "
   ]
  },
  {
   "cell_type": "markdown",
   "metadata": {},
   "source": [
    "### Docker Run variations"
   ]
  },
  {
   "cell_type": "markdown",
   "metadata": {},
   "source": [
    "* If run with an image, get the file system snapshot of the container, and then the run command \n",
    "\n",
    "* But we can supply an alternate command to be run inside of the container when it starts up, and this is an override of the default run command\n",
    "\n",
    "* So `docker run busybox echo hi there` is the override of the command"
   ]
  },
  {
   "cell_type": "markdown",
   "metadata": {},
   "source": [
    "`docker run busybox ls`\n",
    "    * And these are folders that only exist inside of that container, because we have the busybox image with a default file system snapshot \n",
    "    So with an image, we take the file system snapshot and execute it in the container\n",
    "    * And if we try running `ls` in the hello-world program these command ls does not exist, so it will break\n",
    "    * So if we try to use a program not in the filesystem, we get an error"
   ]
  }
 ],
 "metadata": {
  "kernelspec": {
   "display_name": "Python 3",
   "language": "python",
   "name": "python3"
  },
  "language_info": {
   "codemirror_mode": {
    "name": "ipython",
    "version": 3
   },
   "file_extension": ".py",
   "mimetype": "text/x-python",
   "name": "python",
   "nbconvert_exporter": "python",
   "pygments_lexer": "ipython3",
   "version": "3.8.3"
  }
 },
 "nbformat": 4,
 "nbformat_minor": 4
}
