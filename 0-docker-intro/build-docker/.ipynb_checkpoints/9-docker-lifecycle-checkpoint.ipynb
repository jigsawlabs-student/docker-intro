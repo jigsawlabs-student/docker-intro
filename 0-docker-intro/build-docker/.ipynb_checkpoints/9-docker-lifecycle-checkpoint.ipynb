{
 "cells": [
  {
   "cell_type": "markdown",
   "metadata": {},
   "source": [
    "# Container Lifecycle"
   ]
  },
  {
   "cell_type": "markdown",
   "metadata": {},
   "source": [
    "1. Docker Create \n",
    "2. Docker Start"
   ]
  },
  {
   "cell_type": "markdown",
   "metadata": {},
   "source": [
    "* So the Docker Create command is to create a command \n",
    "* Docker start is to start a container"
   ]
  },
  {
   "cell_type": "markdown",
   "metadata": {},
   "source": [
    "* So creating a container, is to prep it for use in the new container\n",
    "* To start the computer is to run the start up command"
   ]
  },
  {
   "cell_type": "markdown",
   "metadata": {},
   "source": [
    "1. `Docker create hello-world`\n",
    "    * This is the id of the container just created\n",
    "2. `docker start -a container_id`\n",
    "    * So then we get this welcome message\n",
    "    * The -a is to give me output from that thing\n",
    "    * And with docker run will show you the logs, but docker start by default does not "
   ]
  },
  {
   "cell_type": "markdown",
   "metadata": {},
   "source": [
    "So while the container stops when the process is done, we still have the container"
   ]
  },
  {
   "cell_type": "markdown",
   "metadata": {},
   "source": [
    "* To start a container, we can take the id and then paste in the id"
   ]
  },
  {
   "cell_type": "markdown",
   "metadata": {},
   "source": [
    "* Once we create a container, we cannot replace the default command (unlike when we first run a container"
   ]
  },
  {
   "cell_type": "markdown",
   "metadata": {},
   "source": [
    "### Deleting Stopped Containers"
   ]
  },
  {
   "cell_type": "markdown",
   "metadata": {},
   "source": [
    "* To delete the containers, run \n",
    "    * `docker system prune`"
   ]
  },
  {
   "cell_type": "markdown",
   "metadata": {},
   "source": [
    "* Also will remove any images \n",
    "    * Build cache - any image fetched from dockerhub "
   ]
  },
  {
   "cell_type": "markdown",
   "metadata": {},
   "source": [
    "`docker ps --all`\n",
    "    * Have stopped containers\n",
    "    * To delete all containers run "
   ]
  },
  {
   "cell_type": "markdown",
   "metadata": {},
   "source": [
    "### Docker log"
   ]
  },
  {
   "cell_type": "markdown",
   "metadata": {},
   "source": [
    "Another way to see what is printed out, is to use docker logs\n",
    "\n",
    "* Docker logs container_id\n",
    "\n",
    "* Docker create busybox ping google.com \n",
    "* Docker ps \n",
    "    * Can see that it's running \n",
    "* Docker logs -f container_id"
   ]
  },
  {
   "cell_type": "markdown",
   "metadata": {},
   "source": [
    "### Stop a container\n",
    "    * Docker stop \n",
    "        * A hardware signal is set to the process, and says to shutdown on it's own time.  So want to give the process sometime to shut itself down and do a little cleanup.  For example, save a file.  Issues sig9\n",
    "        \n",
    "    * Docker kill\n",
    "        * Shutdown immediately without any prep.\n",
    "* So ideally we do docker stop \n",
    "    * But if container does not shut down within 10 seconds "
   ]
  },
  {
   "cell_type": "markdown",
   "metadata": {},
   "source": [
    "### Multicommand Containers\n",
    "\n",
    "* Store redis on the machine\n",
    "    * redis-cli \n",
    "* Docker run redis\n",
    "    * Now if you try to run `redis-cli` it doesn't work\n",
    "    * So we started up a new container running redis-server, but outside of the container, I have no access to anything going on outside of there\n",
    "    * So then we need to get inside of the container, and determine how to execute a second command inside of a running container\n",
    "    \n",
    "`docker exec -it container_id command`\n",
    "\n",
    "`docker exec -it container_id redis-cli`\n",
    "\n",
    "So the `-it` flag allowed us to interact with this.  And if we don't have `-it`, we'll see redis-cli is started up, but because it's not interactive, it kicks us back to the terminal.\n"
   ]
  },
  {
   "cell_type": "markdown",
   "metadata": {},
   "source": [
    "### Deeper into - It"
   ]
  },
  {
   "cell_type": "markdown",
   "metadata": {},
   "source": [
    "* Remember that every thing we are running is being executed inside of a linux machine \n",
    "\n",
    "* So now we have different processes, all running inside of a linux kernel\n",
    "* And these are used to communicate to `stdin` in the process or `stdout` communicates to the terminal (and this shows to the screen).  \n",
    "\n",
    "Well the `-it` flag \n",
    "    * When we do the -i, we say we want to attach our terminal to the standardin process\n",
    "    * So anything I type should go into standard in of redis-cli\n",
    "     "
   ]
  },
  {
   "cell_type": "markdown",
   "metadata": {},
   "source": [
    "* Docker exec to get shell access \n",
    "    * We want to run commands inside of the container\n",
    "    * So let's open up a shell in the context of our container \n",
    "    * `docker exec -it container_id sh`\n",
    "    * Get out with `ctl+d`"
   ]
  },
  {
   "cell_type": "markdown",
   "metadata": {},
   "source": [
    "So `sh` is a shell, that allows us to allow commands to be executed inside the container\n",
    "    * In mac os, using `bash` - can type commands into terminal and allow them to be executed.\n",
    "    * So a lot of containers will have the `sh` command in there, sometimes can use bash as well\n",
    "\n",
    "* Can automate this with\n",
    "    * `docker run -it busybox sh`"
   ]
  },
  {
   "cell_type": "code",
   "execution_count": null,
   "metadata": {},
   "outputs": [],
   "source": []
  }
 ],
 "metadata": {
  "kernelspec": {
   "display_name": "Python 3",
   "language": "python",
   "name": "python3"
  },
  "language_info": {
   "codemirror_mode": {
    "name": "ipython",
    "version": 3
   },
   "file_extension": ".py",
   "mimetype": "text/x-python",
   "name": "python",
   "nbconvert_exporter": "python",
   "pygments_lexer": "ipython3",
   "version": "3.8.3"
  }
 },
 "nbformat": 4,
 "nbformat_minor": 4
}
