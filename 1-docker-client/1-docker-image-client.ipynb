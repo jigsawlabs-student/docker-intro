{
 "cells": [
  {
   "cell_type": "markdown",
   "metadata": {},
   "source": [
    "# Docker Images"
   ]
  },
  {
   "cell_type": "markdown",
   "metadata": {},
   "source": [
    "### Introduction"
   ]
  },
  {
   "cell_type": "markdown",
   "metadata": {},
   "source": [
    "Now that we have an overview about how docker allows us to both isolate processes, while being more space efficient than a virtual machine, let's dig deeper into docker images."
   ]
  },
  {
   "cell_type": "markdown",
   "metadata": {},
   "source": [
    "### Working with the Interface"
   ]
  },
  {
   "cell_type": "markdown",
   "metadata": {},
   "source": [
    "A great way to get to know Docker is through the command line interface, generally referred to as the command line client.  Let's get started."
   ]
  },
  {
   "cell_type": "markdown",
   "metadata": {},
   "source": [
    "Start by typing the following:"
   ]
  },
  {
   "cell_type": "markdown",
   "metadata": {},
   "source": [
    "`docker`\n",
    "\n",
    "```\n",
    "Management Commands:\n",
    "  builder     Manage builds\n",
    "  config      Manage Docker configs\n",
    "  container   Manage containers\n",
    "  image       Manage images\n",
    "  network     Manage networks\n",
    "  node        Manage Swarm nodes\n",
    "  plugin      Manage plugins\n",
    "  secret      Manage Docker secrets\n",
    "  service     Manage services\n",
    "  stack       Manage Docker stacks\n",
    "  swarm       Manage Swarm\n",
    "  system      Manage Docker\n",
    "  trust       Manage trust on Docker images\n",
    "  volume      Manage volumes\n",
    "\n",
    "  ...\n",
    "```"
   ]
  },
  {
   "cell_type": "markdown",
   "metadata": {},
   "source": [
    "We can see that there is a list of commands and descriptions each command.  We don't need to move through all of these right away, so let's keep our focus on images and containers."
   ]
  },
  {
   "cell_type": "markdown",
   "metadata": {},
   "source": [
    "### Docker Images"
   ]
  },
  {
   "cell_type": "markdown",
   "metadata": {},
   "source": [
    "We'll begin with docker images."
   ]
  },
  {
   "cell_type": "markdown",
   "metadata": {},
   "source": [
    "> A Docker image is a file, comprised of multiple layers, used to execute code in a Docker container."
   ]
  },
  {
   "cell_type": "markdown",
   "metadata": {},
   "source": [
    "Let's type in `docker image` to see what we can do with an image. "
   ]
  },
  {
   "cell_type": "markdown",
   "metadata": {},
   "source": [
    "`docker image`\n",
    "```\n",
    "Commands:\n",
    "  build       Build an image from a Dockerfile\n",
    "  history     Show the history of an image\n",
    "  ...\n",
    "  ls          List images\n",
    "  prune       Remove unused images\n",
    "  pull        Pull an image or a repository from a registry\n",
    "```"
   ]
  },
  {
   "cell_type": "markdown",
   "metadata": {},
   "source": [
    "1. Docker Pull"
   ]
  },
  {
   "cell_type": "markdown",
   "metadata": {},
   "source": [
    "As we already saw, the first thing we can do is download an image from dockerhub."
   ]
  },
  {
   "cell_type": "markdown",
   "metadata": {},
   "source": [
    "<img src=\"ghost-dockerhub.png\" />"
   ]
  },
  {
   "cell_type": "markdown",
   "metadata": {},
   "source": [
    "To the right, we see the command to do this:\n",
    "\n",
    "<img src=\"./ghost-terminal.png\" />"
   ]
  },
  {
   "cell_type": "markdown",
   "metadata": {},
   "source": [
    ">   So as we know, we see that our image is composed of layers of other images.  So above, when we see something like:\n",
    "> * `9fc222b64b0a: Pull complete` \n",
    "> *  `7d73b1e8f94b: Pull complete` \n",
    "\n",
    "> we are seeing Docker pull separate images, with those images stacked together to form the `ghost/image`."
   ]
  },
  {
   "cell_type": "markdown",
   "metadata": {},
   "source": [
    "2. Listing our Images"
   ]
  },
  {
   "cell_type": "markdown",
   "metadata": {},
   "source": [
    "We can see the ultimate image that was created -- along with all of the other images -- if we call:\n",
    "\n",
    "`docker image ls`\n",
    "\n",
    "```\n",
    "REPOSITORY                     TAG                 IMAGE ID            CREATED             SIZE\n",
    "ghost                          latest              3aa346f8e22c        7 days ago          385MB\n",
    "```"
   ]
  },
  {
   "cell_type": "markdown",
   "metadata": {},
   "source": [
    "> Above is a list of images on my computer."
   ]
  },
  {
   "cell_type": "markdown",
   "metadata": {},
   "source": [
    "3. Digging Deeper on an Image"
   ]
  },
  {
   "cell_type": "markdown",
   "metadata": {},
   "source": [
    "Now we can take a deeper look at the `ghost` image that we just downloaded, by typing in `docker image history image_name`.  We can use either the `image_name` or the `image_id`."
   ]
  },
  {
   "cell_type": "markdown",
   "metadata": {},
   "source": [
    "`docker image history ghost`\n",
    "```\n",
    "IMAGE               CREATED             CREATED BY                                      SIZE                COMMENT\n",
    "3aa346f8e22c        7 days ago          /bin/sh -c #(nop)  CMD [\"node\" \"current/inde…   0B\n",
    "<missing>           7 days ago          /bin/sh -c #(nop)  EXPOSE 2368                  0B\n",
    "<missing>           7 days ago          /bin/sh -c #(nop)  ENTRYPOINT [\"docker-entry…   0B\n",
    "```"
   ]
  },
  {
   "cell_type": "markdown",
   "metadata": {},
   "source": [
    "Another way to get some of this information is with the inspect command."
   ]
  },
  {
   "cell_type": "markdown",
   "metadata": {},
   "source": [
    "`docker inspect ghost`"
   ]
  },
  {
   "cell_type": "markdown",
   "metadata": {},
   "source": [
    "We can see that this also gives us some overview of our ghost image.  Including the layers of the image, as well as other information."
   ]
  },
  {
   "cell_type": "markdown",
   "metadata": {},
   "source": [
    "```\n",
    "{\n",
    "        \"Id\": \"sha256:cdd7c2c15cacc680c86e8407d825a4b77d23f7190c537cc6c42edec7621996ae\",\n",
    "        \"RepoTags\": [\n",
    "            \"ghost:latest\"\n",
    "        ],\n",
    "        \"RepoDigests\": [\n",
    "            \"ghost@sha256:d36769ce35d3ad3c868a359ad48d9a0b37f886ef4df3571c54936beb4c23689e\"\n",
    "        ],\n",
    "        \"Parent\": \"\",\n",
    "        \"Comment\": \"\",\n",
    "        \"Created\": \"2020-09-24T22:21:11.034217086Z\",\n",
    "        \n",
    "        ...\n",
    "```"
   ]
  },
  {
   "cell_type": "markdown",
   "metadata": {},
   "source": [
    "4. Deleting an Image"
   ]
  },
  {
   "cell_type": "markdown",
   "metadata": {},
   "source": [
    "Finally, we can remove an image simply by typing: \n",
    "\n",
    "`docker image rm ghost`"
   ]
  },
  {
   "cell_type": "markdown",
   "metadata": {},
   "source": [
    "We'll learn about building an image from scratch with a `Dockerfile` in future lessons, but for now, we've seen some of the main operations for images.  More interesting is using docker containers with the docker client, which we'll explore in the next lesson."
   ]
  },
  {
   "cell_type": "markdown",
   "metadata": {},
   "source": [
    "### Summary"
   ]
  },
  {
   "cell_type": "markdown",
   "metadata": {},
   "source": [
    "In this lesson, we were introduced to the docker command line.  We saw that we can learn about different docker commands simply by typing in `docker`.  Then we saw how to work with images with:\n",
    "\n",
    "* `docker pull`: pull an image\n",
    "* `docker image ls`: list all images\n",
    "* `docker image history (ghost)`: list details of an image\n",
    "* `docker image inspect (ghost)`: list details of an image\n",
    "* `docker image rm ghost`: remove an image"
   ]
  }
 ],
 "metadata": {
  "kernelspec": {
   "display_name": "Python 3",
   "language": "python",
   "name": "python3"
  },
  "language_info": {
   "codemirror_mode": {
    "name": "ipython",
    "version": 3
   },
   "file_extension": ".py",
   "mimetype": "text/x-python",
   "name": "python",
   "nbconvert_exporter": "python",
   "pygments_lexer": "ipython3",
   "version": "3.8.6"
  }
 },
 "nbformat": 4,
 "nbformat_minor": 4
}
