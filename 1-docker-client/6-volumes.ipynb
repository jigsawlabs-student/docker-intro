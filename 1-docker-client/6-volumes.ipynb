{
 "cells": [
  {
   "cell_type": "markdown",
   "metadata": {},
   "source": [
    "# Working With Volumes"
   ]
  },
  {
   "cell_type": "markdown",
   "metadata": {},
   "source": [
    "### Introduction"
   ]
  },
  {
   "cell_type": "markdown",
   "metadata": {},
   "source": [
    "So as we know, by default data inside of our container is destroyed when the container stops.  However, we can work around this by specifying a folder that should not be destroyed when the container stops.  We previously learned how to do this with bind mounts, where we map a folder in our docker container to a folder in our host machine.  \n",
    "\n",
    "In this lesson, we'll learn a different technique, which is to use docker volumes."
   ]
  },
  {
   "cell_type": "markdown",
   "metadata": {},
   "source": [
    "### Introducing Volumes\n",
    "\n",
    "Ok, let's get by taking a look at what we can do with volumes in the command line.\n",
    "\n",
    "`docker volume --help`\n",
    "\n",
    "```\n",
    "create      Create a volume\n",
    "inspect     Display detailed information on one or more volumes\n",
    "ls          List volumes\n",
    "prune       Remove all unused local volumes\n",
    "rm          Remove one or more volumes\n",
    "```"
   ]
  },
  {
   "cell_type": "markdown",
   "metadata": {},
   "source": [
    "Ok, let's create a volume:\n",
    "\n",
    "`docker volume create jupyter-notebooks`\n",
    "```\n",
    "jupyter-notebooks\n",
    "```"
   ]
  },
  {
   "cell_type": "markdown",
   "metadata": {},
   "source": [
    "And if we call `docker volume ls` we'll see our new volume listed there:\n",
    "```\n",
    "DRIVER              VOLUME NAME\n",
    "local               jupyter-notebooks\n",
    "```"
   ]
  },
  {
   "cell_type": "markdown",
   "metadata": {},
   "source": [
    "If we run `docker inspect jupyter-notebooks` we see a key called `Mountpoint`:\n",
    "```\n",
    "    {\n",
    "        \"CreatedAt\": \"2019-09-11T16:40:51Z\",\n",
    "        \"Driver\": \"local\",\n",
    "        \"Labels\": {},\n",
    "        \"Mountpoint\": \"/var/lib/docker/volumes/jupyter-notebooks/_data\",\n",
    "        \"Name\": \"jupyter-notebooks\",\n",
    "        \"Options\": {},\n",
    "        \"Scope\": \"local\"\n",
    "    }\n",
    "```"
   ]
  },
  {
   "cell_type": "markdown",
   "metadata": {},
   "source": [
    "This tells us where the volume is stored, and that's all it is.  A volume is just a sectioned off folder in our host computer.  But it is stored inside of docker and designed to only be used with a docker container. "
   ]
  },
  {
   "cell_type": "markdown",
   "metadata": {},
   "source": [
    "### Linking container to a volume"
   ]
  },
  {
   "cell_type": "markdown",
   "metadata": {},
   "source": [
    "Now let's put our knowledge of volumes into action by linking a container to a volume."
   ]
  },
  {
   "cell_type": "markdown",
   "metadata": {},
   "source": [
    "`docker run -p 8899:8888 --mount source=jupyter-notebooks,destination=/home/jovyan/work jupyter/minimal-notebook`"
   ]
  },
  {
   "cell_type": "markdown",
   "metadata": {},
   "source": [
    "If we run this, and the visit the our jupyter notebook, we won't see anything different.  But the our work folder is now referencing our `jupyter-notebooks` volume, similar to when we used bind mounting and it referenced our local folder.  So if we create a new file named `foobar.txt` in the `work` folder, it will be stored in our volume."
   ]
  },
  {
   "cell_type": "markdown",
   "metadata": {},
   "source": [
    "Let's confirm this by starting up a new container also linked to the volume.  We can do this with the same line as before -- but we might as well give our container a name, so we'll add that as well."
   ]
  },
  {
   "cell_type": "markdown",
   "metadata": {},
   "source": [
    "`docker run -p 8899:8888 --mount source=jupyter-notebooks,destination=/home/jovyan/work jupyter/minimal-notebook`"
   ]
  },
  {
   "cell_type": "markdown",
   "metadata": {},
   "source": [
    "<img src=\"./foobar.png\" width=\"60%\"/>"
   ]
  },
  {
   "cell_type": "markdown",
   "metadata": {},
   "source": [
    "So unlike normally, we see that our data is saved across containers with a volume.  Because here, we named our container, we can see the connection between the container and the volume with the `docker inpsect container_name` command."
   ]
  },
  {
   "cell_type": "markdown",
   "metadata": {},
   "source": [
    "`[~]$ docker inspect jupyter-container -f '{{ .Mounts}}'`\n",
    "```\n",
    "[{volume jupyter-notebooks /var/lib/docker/volumes/jupyter-notebooks/_data \n",
    "/home/jovyan/work local z true }]\n",
    "```"
   ]
  },
  {
   "cell_type": "markdown",
   "metadata": {},
   "source": [
    "So here we see the jupyter-notebooks volume is mounted inside of the jupyter-container and that it is linked to the `home/jovyan/work` folder."
   ]
  },
  {
   "cell_type": "markdown",
   "metadata": {},
   "source": [
    "One last thing.  We do not need to create a volume in advance running `docker create volume_name`.  Instead we can create our volume on the fly when we run a new container.  So the command:\n",
    "\n",
    "`docker run -p 8899:8888 --mount source=another-volume,destination=/home/jovyan/work --name jupyter-container jupyter/scipy-notebook`\n",
    "\n",
    "will create a new volume called `another-volume` if one does not already exist."
   ]
  },
  {
   "cell_type": "markdown",
   "metadata": {},
   "source": [
    "### Comparing Volumes and Bind Mounts"
   ]
  },
  {
   "cell_type": "markdown",
   "metadata": {},
   "source": [
    "Now that we know about both volumes and bind mounts, let's compare the two."
   ]
  },
  {
   "cell_type": "markdown",
   "metadata": {},
   "source": [
    "The main way that we distinguish volumes from bind mounts is that volumes are stored in a part of the host filesystem that Docker manages (on Linux, in `/var/lib/docker/volumes/`).  By contrast, bind mounts, can be stored in any folder on the host system.  And with bind mounts, non-Docker processes can modify the files in the mounted folders.\n",
    "\n",
    "So volumes exist strictly within the Docker universe while bind mounts do not.  The recommended to practice is to try to use volumes.  Volumes will make it easier to deploy our data to the cloud and come with other docker features like encryption of our data.  So for example, it probably makes sense to store data from a database in a volume.  We can always connect that data to a docker container, and then deploy that data to a cloud service like AWS.\n",
    "\n",
    "Something like a jupyter notebook however, may not be a great use case for volumes, as we don't always need/want to use them inside of a docker container.  So instead we may choose bind mounts.  It is a judgment call, but as we become more comfortable with docker, we will likely lean on volumes more to keep our data within the docker universe."
   ]
  },
  {
   "cell_type": "markdown",
   "metadata": {},
   "source": [
    "### Summary"
   ]
  },
  {
   "cell_type": "markdown",
   "metadata": {},
   "source": [
    "In this lesson, we learned about another mechanism to persist data across containers with volumes.  Unlike bind mounts, the data in volumes strictly exist and is accessible via docker.  We can create a new volume with the command `docker volume create volume_name` or we can use the run command to create a new volume on the fly.  To connect a new or existing volume to a container we use the `run` command with the `--mount` flag:\n",
    "\n",
    "`docker run --mount source=volume-name,destination=container/folder image_name`"
   ]
  }
 ],
 "metadata": {
  "kernelspec": {
   "display_name": "Python 3",
   "language": "python",
   "name": "python3"
  },
  "language_info": {
   "codemirror_mode": {
    "name": "ipython",
    "version": 3
   },
   "file_extension": ".py",
   "mimetype": "text/x-python",
   "name": "python",
   "nbconvert_exporter": "python",
   "pygments_lexer": "ipython3",
   "version": "3.8.3"
  }
 },
 "nbformat": 4,
 "nbformat_minor": 4
}
