{
 "cells": [
  {
   "cell_type": "markdown",
   "metadata": {},
   "source": [
    "# Bind Mounts"
   ]
  },
  {
   "cell_type": "markdown",
   "metadata": {},
   "source": [
    "### Introduction"
   ]
  },
  {
   "cell_type": "markdown",
   "metadata": {},
   "source": [
    "In the last lesson, we saw how containers are temporary.  They are containers for processes and when the processes complete, the container terminates as well.  We saw this in the context of a blogging platform, Ghost.  And this seems odd, because if we have a blog, and we write a nice article, we don't want our blog posts to simply be destroyed if we need to shut down the website.\n",
    "\n",
    "Instead, to persist data with our application, we have to separate out the persistence layer into another component.  There are two mechanisms to do this: bind mounts and volumes.  Here we'll learn about bind mounts and will save volumes for another lesson."
   ]
  },
  {
   "cell_type": "markdown",
   "metadata": {},
   "source": [
    "### Persistence with Docker\n",
    "\n",
    "To see persistence with Docker, let's boot up a jupyter environment with docker.  We can pull, run, and map ports to the `jupyter/scipy-notebook` with the following command:\n",
    "\n",
    "`docker run -p 8899:8888 jupyter/minimal-notebook`\n",
    "\n",
    "If we do not already have the jupyter/scipy-notebook on our host computer, jupyter will pull it from jupyterhub.  Then jupyter will run the notebook, and map the host port 8899 to the container port 8888.\n"
   ]
  },
  {
   "cell_type": "markdown",
   "metadata": {},
   "source": [
    "> This Docker image requires a login, or a token, by default.  Looking at the [documentation of the image](https://github.com/Paperspace/jupyter-docker-stacks/tree/master/scipy-notebook), we can disable authentication with the following: \n",
    "\n",
    "> `docker run -p 8888:8888 jupyter/scipy-notebook start-notebook.sh --NotebookApp.token=''`"
   ]
  },
  {
   "cell_type": "markdown",
   "metadata": {},
   "source": [
    "Because we have mapped the ports, let's take a look visit our Jupyter notebook and create a new file called `index.ipynb`.  Then let's type in `pwd` to find the present working directory where the `index` notebook is stored in the container."
   ]
  },
  {
   "cell_type": "markdown",
   "metadata": {},
   "source": [
    "<img src=\"./scipy-volumes.png\" width=\"60%\"/>"
   ]
  },
  {
   "cell_type": "markdown",
   "metadata": {},
   "source": [
    "Ok, so we see that the notebook is stored in `home/jovyan/work`.  Ok, now let's press `ctl+c` to shutdown our container.  Of course, we know that if we reboot the container, our notebook will disappear."
   ]
  },
  {
   "cell_type": "markdown",
   "metadata": {},
   "source": [
    "### Using Bind Mounts\n",
    "\n",
    "One way to fix this is to use `bind mounts` in Docker.  From the [Docker documentation](https://docs.docker.com/storage/bind-mounts/):\n",
    "\n",
    "> When you use a bind mount, a file or directory on the host machine is mounted into a container.  The file or directory is referenced by its full or relative path on the host machine. \n",
    "\n",
    "So with our Jupyter container, we can tell Docker that for the contents of the `/home/jovyan/work` container, to reference the contents of a specified working directory on the host.  This way, the contents won't be read and written inside of the container, but they will be read and written on a folder in our host, which is not so temporary.  Ok, let's do it."
   ]
  },
  {
   "cell_type": "markdown",
   "metadata": {},
   "source": [
    "**Creating data on the host**\n",
    "\n",
    "First, just to get on the same page, on our host machine, let's:\n",
    "\n",
    "1. Create a new directory called `practice`, and then navigate to that directory.\n",
    "```\n",
    "mkdir practice\n",
    "cd practice\n",
    "```\n",
    "\n",
    "2. Then, let's add a text file called `special.md`.  \n",
    "```\n",
    "touch special.md\n",
    "```\n",
    "\n",
    "3. We can place the text `hello world` in the file, if we prefer, with: \n",
    "\n",
    "`echo \"hello world\" > special.md`"
   ]
  },
  {
   "cell_type": "markdown",
   "metadata": {},
   "source": [
    "**Mapping data to the container**\n",
    "Ok, now it's time to use our container, and map our `home/jovyan/work` folder to the `practice` folder on the host.  \n",
    "\n",
    "Make sure you are in the `practice` folder on your machine, then run the following:\n",
    "\n",
    "`(base) [practice (master)*]$ docker run -p 8899:8888 -v \"$PWD\":/home/jovyan/work jupyter/scipy-notebook`\n",
    "\n",
    "This means to map the current folder (PWD stands for present working directory) into the folder `home/jovyan/work` in the container.  If we go to the `work` folder, this time we will find our `special.md` file.  We can also add a new file, and when we shutdown the container, we will see a new file in our folder.\n",
    "\n",
    "<img src=\"./scipy-rw-volumes.png\" width=\"80%\"/> "
   ]
  },
  {
   "cell_type": "markdown",
   "metadata": {},
   "source": [
    "> Notice that the new file Hello.ipynb file that we created in the container, is available in our host's environment.\n",
    "\n",
    "`(base) [practice (master)*]$ ls`\n",
    "```\n",
    ".ipynb_checkpoints Hello.ipynb        special.md\n",
    "```"
   ]
  },
  {
   "cell_type": "markdown",
   "metadata": {},
   "source": [
    "Cool, so we have just seen that by using bind mounts, we can both read and write files to our local disk by using the `-v` option when we run our container. "
   ]
  },
  {
   "cell_type": "markdown",
   "metadata": {},
   "source": [
    "This is a powerful concept.  By separating our storage of our notebooks or data from our container, we can evaluate our data in separate environments.  So, for example, with Jupyter, we can simply use a different Jupyter container or image to begin using our data.  Perhaps we have csv data that we want to use in with a Jupyter image sometime, and a database, a la postgres, other times.  We could use bind mounting to connect data on our local machine to a postgres containers sometimes and a jupyter contain when we prefer to use Jupyter."
   ]
  },
  {
   "cell_type": "markdown",
   "metadata": {},
   "source": [
    "### Summary"
   ]
  },
  {
   "cell_type": "markdown",
   "metadata": {},
   "source": [
    "In this lesson, we saw one mechanism for persisting data inside of a container: using bind mounts.  With bind mounts, we map data from our local machine to inside of our container.  As we saw, the connection works both ways.  That is, any mounted data we change from inside of our container will be changed on our local machine, and any changes we make inside of the mounted folder will be seen inside of the container.  We mount our data by running a container with the `-v host_folder:container_folder` as in:\n",
    "\n",
    "`docker run -v \"$PWD\":/home/jovyan/work jupyter/scipy-notebook`"
   ]
  },
  {
   "cell_type": "markdown",
   "metadata": {},
   "source": [
    "### Resources\n",
    "\n",
    "* [bind mounts](https://docs.docker.com/storage/bind-mounts/)\n",
    "* [persistence in docker](https://docs.docker.com/storage/)"
   ]
  }
 ],
 "metadata": {
  "kernelspec": {
   "display_name": "Python 3",
   "language": "python",
   "name": "python3"
  },
  "language_info": {
   "codemirror_mode": {
    "name": "ipython",
    "version": 3
   },
   "file_extension": ".py",
   "mimetype": "text/x-python",
   "name": "python",
   "nbconvert_exporter": "python",
   "pygments_lexer": "ipython3",
   "version": "3.8.3"
  }
 },
 "nbformat": 4,
 "nbformat_minor": 4
}
