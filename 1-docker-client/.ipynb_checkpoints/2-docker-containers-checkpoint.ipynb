{
 "cells": [
  {
   "cell_type": "markdown",
   "metadata": {},
   "source": [
    "# Docker Containers"
   ]
  },
  {
   "cell_type": "markdown",
   "metadata": {},
   "source": [
    "### Introduction"
   ]
  },
  {
   "cell_type": "markdown",
   "metadata": {},
   "source": [
    "\n",
    "\n",
    "We know that an images consists of layered files, which we can eventually use to build a a container."
   ]
  },
  {
   "cell_type": "markdown",
   "metadata": {},
   "source": [
    "<img src=\"./copy-on-write-container.png\" width=\"30%\">"
   ]
  },
  {
   "cell_type": "markdown",
   "metadata": {},
   "source": [
    "### From image to container\n",
    "\n",
    "`docker run image_name`"
   ]
  },
  {
   "cell_type": "markdown",
   "metadata": {},
   "source": [
    "With ghost, this translates to the following:"
   ]
  },
  {
   "cell_type": "markdown",
   "metadata": {},
   "source": [
    "`docker run ghost:4.8.0`\n",
    "\n",
    "```\n",
    "[2019-09-05 18:03:07] INFO Creating table: posts\n",
    "[2019-09-05 18:03:07] INFO Creating table: users\n",
    "[2019-09-05 18:03:07] INFO Creating table: posts_authors\n",
    "[2019-09-05 18:03:07] INFO Creating table: roles\n",
    "[2019-09-05 18:03:07] INFO Creating table: roles_users\n",
    "```"
   ]
  },
  {
   "cell_type": "markdown",
   "metadata": {},
   "source": [
    "We can see that doing so creates a number of tables for us and sets up our application.  Now we just created a container from our ghost image.  "
   ]
  },
  {
   "cell_type": "markdown",
   "metadata": {},
   "source": [
    "We can see a list of all of our containers with the `docker container ls` command:"
   ]
  },
  {
   "cell_type": "markdown",
   "metadata": {},
   "source": [
    "`docker container ls`"
   ]
  },
  {
   "cell_type": "markdown",
   "metadata": {},
   "source": [
    "```\n",
    "CONTAINER ID   IMAGE         COMMAND                  CREATED         STATUS         PORTS      NAMES\n",
    "7be127e171a0   ghost:4.8.0   \"docker-entrypoint.s…\"   5 seconds ago   Up 4 seconds   2368/tcp   hopeful_mendeleev\n",
    "```"
   ]
  },
  {
   "cell_type": "markdown",
   "metadata": {},
   "source": [
    "Finally, we can stop that container by first finding the name of the container and then stopping the container."
   ]
  },
  {
   "cell_type": "markdown",
   "metadata": {},
   "source": [
    "`docker stop hopeful_mendeleev`"
   ]
  },
  {
   "cell_type": "markdown",
   "metadata": {},
   "source": [
    "### Mapping a port from a container"
   ]
  },
  {
   "cell_type": "markdown",
   "metadata": {},
   "source": [
    "When we boot up a container, Ghost tells us: \n",
    "\n",
    "`Your site is now available on http://localhost:2368/`\n",
    "\n",
    "But to access that, we need to map one of the ports on the host to this port.  We can only decide do this with the `docker run` command.  So let's press `ctl+c` to stop our container.  And then this time provide:\n",
    "\n",
    "`docker run -p 8989:2368 ghost:4.8.0`"
   ]
  },
  {
   "cell_type": "markdown",
   "metadata": {},
   "source": [
    "<img src=\"./ghost-demo.png\" /> "
   ]
  },
  {
   "cell_type": "markdown",
   "metadata": {},
   "source": [
    "### Summary"
   ]
  },
  {
   "cell_type": "markdown",
   "metadata": {},
   "source": [
    "In this lesson, we saw how to boot up and interact with a running container.  \n",
    "\n",
    "* We boot up a container with:\n",
    "    * `docker run container_name`\n",
    "* We execute a command in a container with:\n",
    "    * `docker exec container_name command`\n",
    "* We map the host's port to a container's port with:\n",
    "    * `docker run -p host_port:container_port image_name`"
   ]
  }
 ],
 "metadata": {
  "kernelspec": {
   "display_name": "Python 3 (ipykernel)",
   "language": "python",
   "name": "python3"
  },
  "language_info": {
   "codemirror_mode": {
    "name": "ipython",
    "version": 3
   },
   "file_extension": ".py",
   "mimetype": "text/x-python",
   "name": "python",
   "nbconvert_exporter": "python",
   "pygments_lexer": "ipython3",
   "version": "3.10.6"
  }
 },
 "nbformat": 4,
 "nbformat_minor": 4
}
