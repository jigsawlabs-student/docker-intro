{
 "cells": [
  {
   "cell_type": "markdown",
   "metadata": {},
   "source": [
    "# Altering Container Processes"
   ]
  },
  {
   "cell_type": "markdown",
   "metadata": {},
   "source": [
    "### Introduction"
   ]
  },
  {
   "cell_type": "markdown",
   "metadata": {},
   "source": [
    "In the last lesson, we saw how we can work with containers in Docker.  One thing that we may have noticed is that docker automatically boots up our website right from the start.  In this lesson, we'll peak under the hood to learn about how docker performs this task, how we can alter it, and what occurs after Docker completes the specified task."
   ]
  },
  {
   "cell_type": "markdown",
   "metadata": {},
   "source": [
    "### 1. Creating a container"
   ]
  },
  {
   "cell_type": "markdown",
   "metadata": {},
   "source": [
    "By now, we know how to bootup a container.  Let's do it again.\n",
    "\n",
    "`docker run -p 8989:2368 ghost`\n",
    "\n",
    "This creates a number of tables, but how and why does something like this happen.  Well, if we look at a Dockerfile it generally ends with a `CMD` function.  This is the last process to occur when a docker container boots up.  For example, if we look at the [DockerFile for our ghost image](https://github.com/docker-library/ghost/blob/2a72c03e339bda5051b37edd0c553fe909e8408d/2/debian/Dockerfile) we see that it ends with `CMD node index.js`.  "
   ]
  },
  {
   "cell_type": "markdown",
   "metadata": {},
   "source": [
    "```Dockerfile\n",
    "WORKDIR $GHOST_INSTALL\n",
    "VOLUME $GHOST_CONTENT\n",
    "\n",
    "COPY docker-entrypoint.sh /usr/local/bin\n",
    "ENTRYPOINT [\"docker-entrypoint.sh\"]\n",
    "\n",
    "EXPOSE 2368\n",
    "CMD [\"node\", \"current/index.js\"]\n",
    "```\n",
    "This uses node to run the `index.js` file. And that index.js file runs a number of migrations in sqlite, which is what we see in our logs."
   ]
  },
  {
   "cell_type": "markdown",
   "metadata": {},
   "source": [
    "To be explicit, every time we execute `docker run image_name`, a new container is created from that image, and the CMD function is run.  In the case of ghost, this means that each time we boot up the container, the migrations are run."
   ]
  },
  {
   "cell_type": "markdown",
   "metadata": {},
   "source": [
    "Another way to view the command specified in any Docker image, with a call to `docker inspect image_name`.  Let's try it with our ghost image.\n",
    "\n",
    "`docker inspect ghost`\n",
    "\n",
    "Here, we see a long output, and if we scroll down, we'll see the following:\n",
    "```\n",
    "\"Cmd\": [\n",
    "    \"/bin/sh\",\n",
    "    \"-c\",\n",
    "    \"#(nop) \",\n",
    "    \"CMD [\\\"node\\\" \\\"current/index.js\\\"]\"\n",
    "    ],\n",
    "```"
   ]
  },
  {
   "cell_type": "markdown",
   "metadata": {},
   "source": [
    "That last line is what indicates the call to command, which is `node current/index.js`.  We can see this information a little more clearly if filter the output of `docker inspect` with:\n",
    "\n",
    "`docker inspect -f '{{.Config.Cmd}}' ghost`\n",
    "\n",
    "```\n",
    "[node current/index.js]\n",
    "```"
   ]
  },
  {
   "cell_type": "markdown",
   "metadata": {},
   "source": [
    "So here we saw that Docker containers typically are initialized with a call to `CMD`.  We can override this call, by providing our own task when we `run` a container.  "
   ]
  },
  {
   "cell_type": "markdown",
   "metadata": {},
   "source": [
    "### 2. Altering the Behavior"
   ]
  },
  {
   "cell_type": "markdown",
   "metadata": {},
   "source": [
    "So we just saw that when we run the command `docker run`, docker will create the container with the command specified in the Docker image.\n",
    "\n",
    "It turns out that we have the optio of overriding the CMD function so that when Docker boots up, a different command is run.  In the line below, for example, we'll override the default command with the `ls` command."
   ]
  },
  {
   "cell_type": "markdown",
   "metadata": {},
   "source": [
    "`(base) [~]$ docker run ghost ls`\n",
    "```\n",
    "config.development.json\n",
    "config.production.json\n",
    "content\n",
    "content.orig\n",
    "current\n",
    "versions\n",
    "```"
   ]
  },
  {
   "cell_type": "markdown",
   "metadata": {},
   "source": [
    "So we specified our own command to run in the container simply by tacking the command on at the end of the typical `docker run` statement.  And this replaced the default command specified in the DockerFile with our own command."
   ]
  },
  {
   "cell_type": "markdown",
   "metadata": {},
   "source": [
    "> Notice for example, that this time, we no longer see the migrations run, and in fact they were not.  This is because instead of running the `node index.js` task that kicked off the migrations, we replaced it with a call to `ls`, which simply lists the contents of the current directory."
   ]
  },
  {
   "cell_type": "markdown",
   "metadata": {},
   "source": [
    "### 3. Automatic Stopping \n"
   ]
  },
  {
   "cell_type": "markdown",
   "metadata": {},
   "source": [
    "So far, when running a Docker container we have mainly worked with processes that stay running.  For example, with our `ghost` image, the command boots up a server, that stays up and running"
   ]
  },
  {
   "cell_type": "markdown",
   "metadata": {},
   "source": [
    "```\n",
    "docker run ghost\n",
    "\n",
    "[2020-10-01 18:47:21] INFO Your site is now available on http://localhost:2368/\n",
    "[2020-10-01 18:47:21] INFO Ctrl+C to shut down\n",
    "[2020-10-01 18:47:21] INFO Ghost boot 9.834s\n",
    "```\n",
    "\n",
    "And as we saw, this command continues listening for requests until we terminate it (with a call to `command+d`).  And thus, the container stays running.\n",
    "\n",
    "```\n",
    "docker container ls\n",
    "\n",
    "CONTAINER ID        IMAGE               COMMAND                  CREATED             STATUS              PORTS               NAMES\n",
    "f0751ef3ae11        ghost               \"docker-entrypoint.s…\"   4 seconds ago       Up 4 seconds        2368/tcp            cranky_booth\n",
    "```\n"
   ]
  },
  {
   "cell_type": "markdown",
   "metadata": {},
   "source": [
    "**However**, when we ran the `ls` command, docker alsos created a container, performed the `ls` command but then it destroyed the container once the command has completed."
   ]
  },
  {
   "cell_type": "markdown",
   "metadata": {},
   "source": [
    "```\n",
    "(base) [~]$ docker run ghost ls\n",
    "\n",
    "config.development.json\n",
    "config.production.json\n",
    "content\n",
    "content.orig\n",
    "current\n",
    "versions\n",
    "\n",
    "\n",
    "(base) [~]$ docker container ls\n",
    "\n",
    "CONTAINER ID        IMAGE COMMAND CREATED STATUS PORTS NAMES\n",
    "```"
   ]
  },
  {
   "cell_type": "markdown",
   "metadata": {},
   "source": [
    "Notice that when we now look at what containers are running, our container that ran our ghost image has already stopped."
   ]
  },
  {
   "cell_type": "markdown",
   "metadata": {},
   "source": [
    "Here is the point: \n",
    "\n",
    "> Docker destroys a container right when the process that kicks it off is complete."
   ]
  },
  {
   "cell_type": "markdown",
   "metadata": {},
   "source": [
    "So Docker stayed running when the server was running, because that task asked the server to stay listening.  But once we terminated the process, the container destroyed as well.  With the `ls` command, Docker booted up a container, listed the files inside, and then because that task completed, it terminated the container."
   ]
  },
  {
   "cell_type": "markdown",
   "metadata": {},
   "source": [
    "> This may seem silly, but it comes from a good place.  The idea is that containers are so lightweight that we can create a new one just to accomplish a task.  When the task is over, just throw the container away.  If we have another task that requires the environment, just create another container.  \n",
    "\n",
    "> In this way we can ensure the isolation of processes from other containers.  In fact, because of this philosophy and the temporary nature of containers, we can think of a container itself as just a process.  So it almost makes sense that when the process is gone, the container is gone.  The container has lost it's purpose for being. "
   ]
  },
  {
   "cell_type": "markdown",
   "metadata": {},
   "source": [
    "### 4. Persisting a Process"
   ]
  },
  {
   "cell_type": "markdown",
   "metadata": {},
   "source": [
    "Now it would be nice to interact with the shell inside of the container.  And we can *attempt* to execute the command for the shell with the command `docker run ghost sh`.  \n",
    "\n",
    "> Try it, frustration results."
   ]
  },
  {
   "cell_type": "markdown",
   "metadata": {},
   "source": [
    "`docker run ghost sh`"
   ]
  },
  {
   "cell_type": "markdown",
   "metadata": {},
   "source": [
    "Ah yes, frustration.  What we see when we run the command, is docker does not really given access to a shell.  Docker just moves to the next line.\n",
    "\n",
    "**The reason** is because docker simply executes the command, and when the command is finished it completes that command.    So to have the command both execute the command and allow us to interact with the shell, we must provide the `-it` flag.  \n",
    "> This means that we maintain a connection to the container's standard input and standard output.  "
   ]
  },
  {
   "cell_type": "markdown",
   "metadata": {},
   "source": [
    "<img src=\"./docker-it.png\" width=\"70%\">"
   ]
  },
  {
   "cell_type": "markdown",
   "metadata": {},
   "source": [
    "Much better.  Now we have access to the software and commands inside of the container."
   ]
  },
  {
   "cell_type": "markdown",
   "metadata": {},
   "source": [
    "So to review, we booted up the container with the `docker run image_name` command, and then we executed custom commands within the container with the `docker run image_name command`, and maintained a connection to the container's shell with the `docker run image_name -it sh`.  "
   ]
  },
  {
   "cell_type": "markdown",
   "metadata": {},
   "source": [
    "### Working on a Running Container"
   ]
  },
  {
   "cell_type": "markdown",
   "metadata": {},
   "source": [
    "Now we can also access a running container from a separate shell.  For example, if we want to see the logs of the container we can run the following:\n",
    "\n",
    "`docker container logs container_name` or `docker logs container_name`\n",
    "\n",
    "And if we want to execute a command on a container that is already running, we can do so with the `docker exec` command.  For example, if we want to `sh` into an already running container we can do so with the following:\n",
    "\n",
    "`docker exec -it container_name sh` "
   ]
  },
  {
   "cell_type": "markdown",
   "metadata": {},
   "source": [
    "### Summary\n",
    "\n",
    "In this lesson, we learned about the lifecycle of a container.  What we saw is that a container's whole reason for existing is the process it was asked to carry out.  A docker container begins with a specified process, and automatically terminates when the process is complete.  \n",
    "\n",
    "The process a container initializes with is defined in the Dockerfile with `CMD` or can be overwritten when we run the container with `docker run image_name command_name`.  When all processes a container is running terminates, the container itself stops and is destroyed.  This supports the idea of keeping processes isolated from one another, building a new isolated environment to support a process, and thinking of creating this isolation as a lightweight task.\n",
    "\n",
    "Of course, with containers being so temporary we may wonder how we ever persist any changes to our application.  For example if we decide to store some data, and then our container closes is that data just thrown away?  Well, not if we use volumes, which we'll discuss in the next section."
   ]
  },
  {
   "cell_type": "markdown",
   "metadata": {},
   "source": [
    "### Resources\n",
    "\n",
    "* [Command vs Entrypoint](https://blog.codeship.com/understanding-dockers-cmd-and-entrypoint-instructions/)\n",
    "\n",
    "* *Docker for Data Science* book - for more on thinking of containers as processes"
   ]
  }
 ],
 "metadata": {
  "kernelspec": {
   "display_name": "Python 3",
   "language": "python",
   "name": "python3"
  },
  "language_info": {
   "codemirror_mode": {
    "name": "ipython",
    "version": 3
   },
   "file_extension": ".py",
   "mimetype": "text/x-python",
   "name": "python",
   "nbconvert_exporter": "python",
   "pygments_lexer": "ipython3",
   "version": "3.8.6"
  }
 },
 "nbformat": 4,
 "nbformat_minor": 4
}
