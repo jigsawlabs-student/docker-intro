{
 "cells": [
  {
   "cell_type": "markdown",
   "metadata": {},
   "source": [
    "# Docker Volumes Lab"
   ]
  },
  {
   "cell_type": "markdown",
   "metadata": {},
   "source": [
    "### Introduction"
   ]
  },
  {
   "cell_type": "markdown",
   "metadata": {},
   "source": [
    "In this lesson, we'll practice using Docker for both bind mounts and volumes."
   ]
  },
  {
   "cell_type": "markdown",
   "metadata": {},
   "source": [
    "### Getting Started"
   ]
  },
  {
   "cell_type": "markdown",
   "metadata": {},
   "source": [
    "Let's work with the `wernight/codiad` image located [here](https://hub.docker.com/r/wernight/codiad/).  Begin by downloading the image if necessary."
   ]
  },
  {
   "cell_type": "markdown",
   "metadata": {},
   "source": [
    "Then run a container of the image, with the command of `ls` to take a look at some of the folders located in the image.  \n",
    "\n",
    "> If we do so correctly we should see the following."
   ]
  },
  {
   "cell_type": "markdown",
   "metadata": {},
   "source": [
    "```bash \n",
    "bin\n",
    "boot\n",
    "code\n",
    "default-code\n",
    "dev\n",
    "entrypoint.sh\n",
    "etc\n",
    "home\n",
    "lib\n",
    "lib64\n",
    "libexec\n",
    "media\n",
    "mnt\n",
    "opt\n",
    "proc\n",
    "root\n",
    "run\n",
    "sbin\n",
    "srv\n",
    "sys\n",
    "tmp\n",
    "usr\n",
    "var\n",
    "```"
   ]
  },
  {
   "cell_type": "markdown",
   "metadata": {},
   "source": [
    "And we can also connect to the shell with the `docker exec -it` command.  Try it out."
   ]
  },
  {
   "cell_type": "markdown",
   "metadata": {},
   "source": [
    "### Using bind mounts"
   ]
  },
  {
   "cell_type": "markdown",
   "metadata": {},
   "source": [
    "Now if we look at the [documentation on Dockerhub](https://hub.docker.com/r/wernight/codiad), it tells us how to both map the port, and bind mount any code into a local directory."
   ]
  },
  {
   "cell_type": "markdown",
   "metadata": {},
   "source": [
    "> <img src=\"./using-codiad-bindmount.png\" width=\"100%\" />"
   ]
  },
  {
   "cell_type": "markdown",
   "metadata": {},
   "source": [
    "Ok, so give it a shot.  Let's both perform the bind mounting and port mapping.\n",
    "\n",
    "> We can exclude the component relating to the localtime if we prefer.\n",
    "\n",
    "To check that it worked, we should login to the codiad environment with the credentials of: \n",
    "\n",
    "* `username`: user\n",
    "* `password`: bitnami\n",
    "\n",
    "When it specifies the directory for the project name and directory, use the label `practice` for both.  After signing in, we should see something like the following:"
   ]
  },
  {
   "cell_type": "markdown",
   "metadata": {},
   "source": [
    "<img src=\"./codiad-intro.png\" width=\"50%\">"
   ]
  },
  {
   "cell_type": "markdown",
   "metadata": {},
   "source": [
    "Create a file with some code or text in it by right clicking (or two finger clicking) on the manila folder in the top left.  And when you shut down the container, we should see this located in the `code/practice` directory."
   ]
  },
  {
   "cell_type": "markdown",
   "metadata": {},
   "source": [
    "### Using a Volume"
   ]
  },
  {
   "cell_type": "markdown",
   "metadata": {},
   "source": [
    "Now let's go from using a bind mounts to using a volume to persist our data.  \n",
    "\n",
    "1. Begin by creating a volume called `codebase`.\n",
    "2. Then list all of the volumes to see that it was created."
   ]
  },
  {
   "cell_type": "markdown",
   "metadata": {},
   "source": [
    "```\n",
    "DRIVER              VOLUME NAME\n",
    "local               codebase\n",
    "```"
   ]
  },
  {
   "cell_type": "markdown",
   "metadata": {},
   "source": [
    "Next, mount the volume so that it is connected to the `/code` folder.  Create another file, and check that if you create a new container with the same `codebase` volume mounted, that the file still exists."
   ]
  },
  {
   "cell_type": "markdown",
   "metadata": {},
   "source": [
    "### Summary"
   ]
  },
  {
   "cell_type": "markdown",
   "metadata": {},
   "source": [
    "In this lesson we practiced working with volumes and bind mounts.  We saw how to use bindmounts so that the data is stored on our local computer, and to use volumes so that we can keep our data within the docker ecosystem."
   ]
  }
 ],
 "metadata": {
  "kernelspec": {
   "display_name": "Python 3",
   "language": "python",
   "name": "python3"
  },
  "language_info": {
   "codemirror_mode": {
    "name": "ipython",
    "version": 3
   },
   "file_extension": ".py",
   "mimetype": "text/x-python",
   "name": "python",
   "nbconvert_exporter": "python",
   "pygments_lexer": "ipython3",
   "version": "3.9.1"
  }
 },
 "nbformat": 4,
 "nbformat_minor": 4
}
