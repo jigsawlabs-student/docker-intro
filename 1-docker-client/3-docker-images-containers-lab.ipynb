{
 "cells": [
  {
   "cell_type": "markdown",
   "metadata": {},
   "source": [
    "# Docker Images and Containers Lab"
   ]
  },
  {
   "cell_type": "markdown",
   "metadata": {},
   "source": [
    "### Introduction"
   ]
  },
  {
   "cell_type": "markdown",
   "metadata": {},
   "source": [
    "In this lesson, we'll use docker to see how we can setup a data science environment on our computer using the `wernight/codiad` image.  This is codiad."
   ]
  },
  {
   "cell_type": "markdown",
   "metadata": {},
   "source": [
    "<img src=\"./codiad-image.png\" width=\"60%\">"
   ]
  },
  {
   "cell_type": "markdown",
   "metadata": {},
   "source": [
    "It allows us to host an interactive text editor on a computer.  Let's download and run the software on our computer using docker.  Along the way, we'll reinforce our understanding of images and containers."
   ]
  },
  {
   "cell_type": "markdown",
   "metadata": {},
   "source": [
    "### Getting Started"
   ]
  },
  {
   "cell_type": "markdown",
   "metadata": {},
   "source": [
    "1. As your first task, open up your terminal, and pull down the `wernight/codiad` image.  \n",
    "\n",
    "> If you forget how to do this, click the link to the [wernight/codiad](https://hub.docker.com/r/wernight/codiad/) image.  You'll see the correct command listed in the black box on the right. "
   ]
  },
  {
   "cell_type": "markdown",
   "metadata": {},
   "source": [
    "> You'll see something like the following, however the text `Already exists` may not be there."
   ]
  },
  {
   "cell_type": "markdown",
   "metadata": {},
   "source": [
    "```\n",
    "Using default tag: latest\n",
    "latest: Pulling from wernight/codiad\n",
    "50aff78429b1: Already exists\n",
    "f6d82e297bce: Already exists\n",
    "275abb2c8a6f: Already exists\n",
    "9f15a39356d6: Already exists\n",
    "fc0342a94c89: Already exists\n",
    "281ca2662358: Already exists\n",
    "258cb097dc30: Already exists\n",
    "666bb8db083b: Already exists\n",
    "84aca96a4630: Already exists\n",
    "Digest: sha256:e72b2cafd906012f30469dcf7eb42b4c82e823cf03a8ed637ffeeb1d523aeea5\n",
    "Status: Downloaded newer image for wernight/codiad:latest\n",
    "docker.io/wernight/codiad:latest\n",
    "```"
   ]
  },
  {
   "cell_type": "markdown",
   "metadata": {},
   "source": [
    "2. Once you've properly pulled down the image, we can confirm that it's been downloaded by displaying all of the images on our machine."
   ]
  },
  {
   "cell_type": "markdown",
   "metadata": {},
   "source": [
    "> You should see something like the following."
   ]
  },
  {
   "cell_type": "markdown",
   "metadata": {},
   "source": [
    "```\n",
    "REPOSITORY          TAG                 IMAGE ID            CREATED             SIZE\n",
    "wernight/codiad     latest              8f0ac60a3629        2 years ago         506MB\n",
    "```"
   ]
  },
  {
   "cell_type": "markdown",
   "metadata": {},
   "source": [
    "### Working with Containers"
   ]
  },
  {
   "cell_type": "markdown",
   "metadata": {},
   "source": [
    "1. Ok, now it's time to boot up a container of the image.  "
   ]
  },
  {
   "cell_type": "markdown",
   "metadata": {},
   "source": [
    "> If we boot it up correctly, we'll see something like the following.\n",
    "\n",
    "```\n",
    "[29-Sep-2020 23:17:15] NOTICE: fpm is running, pid 14\n",
    "[29-Sep-2020 23:17:15] NOTICE: ready to handle connections\n",
    "[29-Sep-2020 23:17:15] NOTICE: systemd monitor interval set to 10000ms\n",
    "```"
   ]
  },
  {
   "cell_type": "markdown",
   "metadata": {},
   "source": [
    "Now, this container is effectively running a website, but we can't access it as it's processes are isolated from the rest of our computer.  Before we connect to the container's port, let's run a command inside of the container."
   ]
  },
  {
   "cell_type": "markdown",
   "metadata": {},
   "source": [
    "2. First list all of the running containers, we should see the codiad container running.  \n",
    "\n",
    "> I see something like the following.\n",
    "\n",
    "```\n",
    "CONTAINER ID        IMAGE               COMMAND                  CREATED             STATUS              PORTS               NAMES\n",
    "72a369a7d0b8        wernight/codiad     \"/entrypoint.sh s6-s…\"   3 seconds ago       Up 2 seconds        80/tcp              sad_tharp\n",
    "```"
   ]
  },
  {
   "cell_type": "markdown",
   "metadata": {},
   "source": [
    "3. Now let's stop the running container using the relevant `docker stop` command."
   ]
  },
  {
   "cell_type": "markdown",
   "metadata": {},
   "source": [
    "4. Then confirm that the container is no longer running."
   ]
  },
  {
   "cell_type": "markdown",
   "metadata": {},
   "source": [
    "```\n",
    "CONTAINER ID        IMAGE               COMMAND             CREATED             STATUS              PORTS               NAMES\n",
    "```"
   ]
  },
  {
   "cell_type": "markdown",
   "metadata": {},
   "source": [
    "### Connecting to the Port"
   ]
  },
  {
   "cell_type": "markdown",
   "metadata": {},
   "source": [
    "Finally, boot up the image into a container using the default command and expose the container's port `80` running to the host's port `8089`.  If it's working correctly, we can go to `localhost:8089` and see the following."
   ]
  },
  {
   "cell_type": "markdown",
   "metadata": {},
   "source": [
    "<img src=\"./codiad-initial.png\" width=\"60%\">"
   ]
  },
  {
   "cell_type": "markdown",
   "metadata": {},
   "source": [
    "If we you are looking to login to codiad and view the text editor, we can do so by have a user as `user` and password as `bitnami`.  After logging in, we'll see something like the following."
   ]
  },
  {
   "cell_type": "markdown",
   "metadata": {},
   "source": [
    "<img src=\"./login-data.png\" width=\"60%\">"
   ]
  },
  {
   "cell_type": "markdown",
   "metadata": {},
   "source": [
    "### Summary"
   ]
  },
  {
   "cell_type": "markdown",
   "metadata": {},
   "source": [
    "In this lesson, we practiced working with docker images and containers through the docker command line.  We did so using the following commands.\n",
    "\n",
    "1. Pull the image\n",
    "> `docker pull wernight/codiad`\n",
    "2. Show all images\n",
    "> `docker image ls`\n",
    "3. Run a container of the image\n",
    "> `docker run wernight/codiad`\n",
    "4. Stop the container\n",
    "> `docker stop container_name`\n",
    "\n",
    "5. Run the container and map the host's 8080 port to port 80\n",
    "> `docker run -p wernight/codiad 8080:80`"
   ]
  },
  {
   "cell_type": "markdown",
   "metadata": {},
   "source": [
    "### Resources"
   ]
  },
  {
   "cell_type": "markdown",
   "metadata": {},
   "source": [
    "[Docker nginx](https://medium.com/codingthesmartway-com-blog/docker-beginners-guide-part-1-images-containers-6f3507fffc98)"
   ]
  },
  {
   "cell_type": "markdown",
   "metadata": {},
   "source": [
    "[Docker for DS](https://data-ken.org/docker-for-data-scientists-part3.html)"
   ]
  },
  {
   "cell_type": "markdown",
   "metadata": {},
   "source": [
    "[Docker DS and engineering](https://dev.to/anshaj/docker-for-data-science-and-engineering-5567)"
   ]
  },
  {
   "cell_type": "markdown",
   "metadata": {},
   "source": [
    "[Docker Streamlit](https://medium.com/usf-msds/deploying-web-app-with-streamlit-docker-and-aws-72b0d4dbcf77)"
   ]
  },
  {
   "cell_type": "markdown",
   "metadata": {},
   "source": [
    "[Docker Kubernetes Streamlit](https://towardsdatascience.com/deploy-machine-learning-app-built-using-streamlit-and-pycaret-on-google-kubernetes-engine-fd7e393d99cb)"
   ]
  }
 ],
 "metadata": {
  "kernelspec": {
   "display_name": "Python 3",
   "language": "python",
   "name": "python3"
  },
  "language_info": {
   "codemirror_mode": {
    "name": "ipython",
    "version": 3
   },
   "file_extension": ".py",
   "mimetype": "text/x-python",
   "name": "python",
   "nbconvert_exporter": "python",
   "pygments_lexer": "ipython3",
   "version": "3.8.6"
  }
 },
 "nbformat": 4,
 "nbformat_minor": 4
}
