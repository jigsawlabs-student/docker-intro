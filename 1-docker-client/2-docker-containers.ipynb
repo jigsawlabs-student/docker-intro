{
 "cells": [
  {
   "cell_type": "markdown",
   "metadata": {},
   "source": [
    "# Docker Containers"
   ]
  },
  {
   "cell_type": "markdown",
   "metadata": {},
   "source": [
    "### Introduction"
   ]
  },
  {
   "cell_type": "markdown",
   "metadata": {},
   "source": [
    "In the last section, we learned about using the docker client to manage images.  Before digging deeper, let's review what we already learned.  We know that an images consists of layered files, which we can eventually use to build a a container."
   ]
  },
  {
   "cell_type": "markdown",
   "metadata": {},
   "source": [
    "<img src=\"./copy-on-write-container.png\" width=\"30%\">"
   ]
  },
  {
   "cell_type": "markdown",
   "metadata": {},
   "source": [
    "The image contents are read only, while the contents of a container are copy on write.  Ok, let's get started with using a container through the docker command line interface."
   ]
  },
  {
   "cell_type": "markdown",
   "metadata": {},
   "source": [
    "### From image to container\n",
    "\n",
    "Ok, so as we know the files of an image cannot be changed.  This means that to interact with any of the software in our image we need to turn our image into a container.  We can do so with the following command:\n",
    "\n",
    "`docker run image_name`"
   ]
  },
  {
   "cell_type": "markdown",
   "metadata": {},
   "source": [
    "With ghost, this translates to the following:"
   ]
  },
  {
   "cell_type": "markdown",
   "metadata": {},
   "source": [
    "`docker run ghost`\n",
    "\n",
    "```\n",
    "[2019-09-05 18:03:07] INFO Creating table: posts\n",
    "[2019-09-05 18:03:07] INFO Creating table: users\n",
    "[2019-09-05 18:03:07] INFO Creating table: posts_authors\n",
    "[2019-09-05 18:03:07] INFO Creating table: roles\n",
    "[2019-09-05 18:03:07] INFO Creating table: roles_users\n",
    "```"
   ]
  },
  {
   "cell_type": "markdown",
   "metadata": {},
   "source": [
    "We can see that doing so creates a number of tables for us and sets up our application.  Now we just created a container from our ghost image.  "
   ]
  },
  {
   "cell_type": "markdown",
   "metadata": {},
   "source": [
    "We can see a list of all of our containers with the following:"
   ]
  },
  {
   "cell_type": "markdown",
   "metadata": {},
   "source": [
    "`docker container ls`"
   ]
  },
  {
   "cell_type": "markdown",
   "metadata": {},
   "source": [
    "```\n",
    "CONTAINER ID        IMAGE               COMMAND                  CREATED             STATUS              PORTS                  NAMES\n",
    "cb4864ef9c48        wernight/codiad     \"/entrypoint.sh s6-s…\"   2 hours ago         Up 2 hours          0.0.0.0:8080->80/tcp   zen_cannon\n",
    "```"
   ]
  },
  {
   "cell_type": "markdown",
   "metadata": {},
   "source": [
    "Finally, we can stop that container by first finding the name of the container and then stopping the container."
   ]
  },
  {
   "cell_type": "markdown",
   "metadata": {},
   "source": [
    "`docker stop zen_cannon`"
   ]
  },
  {
   "cell_type": "markdown",
   "metadata": {},
   "source": [
    "### Mapping a port from a container"
   ]
  },
  {
   "cell_type": "markdown",
   "metadata": {},
   "source": [
    "Now even though we have access to our container through the shell.  We still cannot access the port that is hosting our ghost website.  The reason is because the port our website is on is internal to our ghost container.   Ghost tells us: \n",
    "\n",
    "`Your site is now available on http://localhost:2368/`\n",
    "\n",
    "But to access that, we need to map one of the ports on the host to this port.  We can only decide do this with the `docker run` command.  So let's press `ctl+c` to stop our container.  And then this time provide:\n",
    "\n",
    "`docker run -p 8989:2368 ghost`"
   ]
  },
  {
   "cell_type": "markdown",
   "metadata": {},
   "source": [
    "This exposes maps our host's (or pc's) port of 8989 to the container's port of 2368, where it says ghost is hosted.  So let's go to `http://localhost:2368`."
   ]
  },
  {
   "cell_type": "markdown",
   "metadata": {},
   "source": [
    "<img src=\"./ghost-demo.png\" /> "
   ]
  },
  {
   "cell_type": "markdown",
   "metadata": {},
   "source": [
    "### Summary"
   ]
  },
  {
   "cell_type": "markdown",
   "metadata": {},
   "source": [
    "In this lesson, we saw how to boot up and interact with a running container.  \n",
    "\n",
    "* We boot up a container with:\n",
    "    * `docker run container_name`\n",
    "* We execute a command in a container with:\n",
    "    * `docker exec container_name command`\n",
    "* We execute the command and maintain a connection with:\n",
    "    * `docker exec -it container_name command` \n",
    "* We display the logs of a container with:\n",
    "    * `docker container logs container_name` or `docker logs container_name`\n",
    "* We map the host's port to a container's port with:\n",
    "    * `docker run -p host_port:container_port image_name`"
   ]
  }
 ],
 "metadata": {
  "kernelspec": {
   "display_name": "Python 3",
   "language": "python",
   "name": "python3"
  },
  "language_info": {
   "codemirror_mode": {
    "name": "ipython",
    "version": 3
   },
   "file_extension": ".py",
   "mimetype": "text/x-python",
   "name": "python",
   "nbconvert_exporter": "python",
   "pygments_lexer": "ipython3",
   "version": "3.8.3"
  }
 },
 "nbformat": 4,
 "nbformat_minor": 4
}
