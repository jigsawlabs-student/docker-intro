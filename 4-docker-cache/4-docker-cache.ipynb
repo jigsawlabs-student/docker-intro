{
 "cells": [
  {
   "cell_type": "markdown",
   "metadata": {},
   "source": [
    "# The build cache\n"
   ]
  },
  {
   "cell_type": "markdown",
   "metadata": {},
   "source": [
    "### Introduction"
   ]
  },
  {
   "cell_type": "markdown",
   "metadata": {},
   "source": [
    "In the last lab, we wrote the Dockerfile to launch a flask application, created the image and then built the related container.  In this lesson, let's learn some steps towards better structuring that DockerFile."
   ]
  },
  {
   "cell_type": "markdown",
   "metadata": {},
   "source": [
    "### The Docker Cache"
   ]
  },
  {
   "cell_type": "markdown",
   "metadata": {},
   "source": [
    "Let's imagine that our DockerFile from the last lesson looked something like the following:"
   ]
  },
  {
   "cell_type": "markdown",
   "metadata": {},
   "source": [
    "```DockerFile\n",
    "FROM python:3.7-alpine\n",
    "WORKDIR /usr/src/app\n",
    "COPY . .\n",
    "RUN pip3 install -r requirements.txt\n",
    "CMD [\"flask\", \"run\", \"--host=0.0.0.0\"]\n",
    "```"
   ]
  },
  {
   "cell_type": "markdown",
   "metadata": {},
   "source": [
    "Now, if we rebuild the image, let's pay close attention to the build process.  \n",
    "\n",
    "`docker build -t jek2141/flask_lab .`"
   ]
  },
  {
   "cell_type": "markdown",
   "metadata": {},
   "source": [
    "<img src=\"./flask_lab_build.png\" width=\"100%\">"
   ]
  },
  {
   "cell_type": "markdown",
   "metadata": {},
   "source": [
    "Notice that with steps 2 through 5, before each step it says `CACHED`.  Essentially, in each step, Docker sees that it has already built this layer and therefore does not need to rebuild it.  Instead it just uses it's existing image, and then moves on from there.  "
   ]
  },
  {
   "cell_type": "markdown",
   "metadata": {},
   "source": [
    "### Introducing a Problem"
   ]
  },
  {
   "cell_type": "markdown",
   "metadata": {},
   "source": [
    "Ok, now let' change some the code in for our Flask app, and see how this effects the cache.\n",
    "\n",
    "> We'll make a simple change by just `lisa simpson`, to go along with bart simpson."
   ]
  },
  {
   "cell_type": "markdown",
   "metadata": {},
   "source": [
    "```python\n",
    "app = Flask(__name__)\n",
    "\n",
    "@app.route('/users')\n",
    "def index():\n",
    "    return jsonify({'users': ['bart simpson', 'lisa simpson']})\n",
    "\n",
    "if __name__ == '__main__':\n",
    "    app.run(debug=True)\n",
    "```"
   ]
  },
  {
   "cell_type": "markdown",
   "metadata": {},
   "source": [
    "Ok, let's rebuild the image."
   ]
  },
  {
   "cell_type": "markdown",
   "metadata": {},
   "source": [
    "<img src=\"./busted_cache.png\" width=\"100%\">"
   ]
  },
  {
   "cell_type": "markdown",
   "metadata": {},
   "source": [
    "Notice that this time, we do not see the cache used in steps 3 and 4.  So it makes that step 3 can no longer use the cache.  After all, we changed the codebase.  However, it's not ideal that ever subsequent layer also needs to be rebuilt.  This is particularly inefficient when it comes to the `requirements.txt` file.  Installing all of our packages may take a while to rebuild, and it would be nice to avoid needing to reinstall our package, every time we change our code.  \n",
    "\n",
    "We can avoid this if we change our code to the following."
   ]
  },
  {
   "cell_type": "markdown",
   "metadata": {},
   "source": [
    "```DockerFile\n",
    "FROM python:3.7-alpine\n",
    "\n",
    "WORKDIR /usr/src/app\n",
    "\n",
    "COPY ./requirements.txt .\n",
    "\n",
    "RUN pip3 install -r requirements.txt\n",
    "\n",
    "COPY . .\n",
    "CMD [\"flask\", \"run\", \"--host=0.0.0.0\"]\n",
    "```"
   ]
  },
  {
   "cell_type": "markdown",
   "metadata": {},
   "source": [
    "This time, after changing the working directory, we first only move over the `requirements.txt` file, and then perform the install.  Afterwards, we move over the rest of the codebase.  This way, if we only change the codebase, we have not affected any of the the previous steps.  This allows us to reuse more of our previous layers.  Ok, let's put it to the test."
   ]
  },
  {
   "cell_type": "markdown",
   "metadata": {},
   "source": [
    "<img src=\"./cached_proper.png\" width='70%'>"
   ]
  },
  {
   "cell_type": "markdown",
   "metadata": {},
   "source": [
    "So as we can see, this time around steps, 2, 3 and 4 did rely on the cache, as they were not changed.  Only our codebase as the last step was changed."
   ]
  },
  {
   "cell_type": "markdown",
   "metadata": {},
   "source": [
    "### Summary"
   ]
  },
  {
   "cell_type": "markdown",
   "metadata": {},
   "source": [
    "In this lesson, we learned about the Docker cache.  We saw that, when building an image Docker does not rebuild layers that already exist.  However, if one of the layers is changed, then every subsequent layer is also new, and thus needs to be rebuilt.  One of the more costly steps is in installing our pip packages.  To avoid a fresh install with every change to our codebase, we can first copy over and install the packages specified in the `requirements.txt` file, and then copy over the remaining files in our app.     "
   ]
  },
  {
   "cell_type": "markdown",
   "metadata": {},
   "source": [
    "### Resources\n",
    "\n",
    "* [Command vs Entrypoint](https://blog.codeship.com/understanding-dockers-cmd-and-entrypoint-instructions/)\n",
    "* Docker image cache\n",
    "* Docker Logs"
   ]
  }
 ],
 "metadata": {
  "kernelspec": {
   "display_name": "Python 3",
   "language": "python",
   "name": "python3"
  },
  "language_info": {
   "codemirror_mode": {
    "name": "ipython",
    "version": 3
   },
   "file_extension": ".py",
   "mimetype": "text/x-python",
   "name": "python",
   "nbconvert_exporter": "python",
   "pygments_lexer": "ipython3",
   "version": "3.9.1"
  }
 },
 "nbformat": 4,
 "nbformat_minor": 4
}
