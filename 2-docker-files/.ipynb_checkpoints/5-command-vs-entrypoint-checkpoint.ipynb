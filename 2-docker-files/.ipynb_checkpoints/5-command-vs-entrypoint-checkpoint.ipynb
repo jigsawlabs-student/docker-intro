{
 "cells": [
  {
   "cell_type": "code",
   "execution_count": null,
   "metadata": {},
   "outputs": [],
   "source": []
  },
  {
   "cell_type": "markdown",
   "metadata": {},
   "source": [
    "### The build cache\n",
    "\n",
    "Finally notice what happens when we rebuild the image.  Docker, in it's words uses the `cache`.\n",
    "\n",
    "`docker build -t jeffkatzy/jupyter-kaggle .`\n",
    "\n",
    "```\n",
    "Sending build context to Docker daemon  2.048kB\n",
    "Step 1/3 : FROM jupyter/scipy-notebook\n",
    " ---> 844815ed865e\n",
    "Step 2/3 : RUN conda install 'kaggle'\n",
    " ---> Using cache\n",
    " ---> 29886ca05035\n",
    "Step 3/3 : CMD [\"jupyter\", \"notebook\"]\n",
    " ---> Using cache\n",
    " ---> 09c2125c0a49\n",
    "Successfully built 09c2125c0a49\n",
    "Successfully tagged jeffkatzy/jupyter-kaggle:latest\n",
    "```\n",
    "\n",
    "Essentially, in `Step 2/3`, Docker sees that it has already gone from a `jupyter/scipy-notebook` image to `RUN conda install 'kaggle'` and therefore does not need to re-initialize a container, and turn that into an image.  Instead it just uses the cache, or the previous intermediate image, and then moves on from there.  "
   ]
  },
  {
   "cell_type": "markdown",
   "metadata": {},
   "source": [
    "### Resources\n",
    "\n",
    "* [Command vs Entrypoint](https://blog.codeship.com/understanding-dockers-cmd-and-entrypoint-instructions/)\n",
    "* Docker image cache\n",
    "* Docker Logs"
   ]
  }
 ],
 "metadata": {
  "kernelspec": {
   "display_name": "Python 3",
   "language": "python",
   "name": "python3"
  },
  "language_info": {
   "codemirror_mode": {
    "name": "ipython",
    "version": 3
   },
   "file_extension": ".py",
   "mimetype": "text/x-python",
   "name": "python",
   "nbconvert_exporter": "python",
   "pygments_lexer": "ipython3",
   "version": "3.9.1"
  }
 },
 "nbformat": 4,
 "nbformat_minor": 4
}
