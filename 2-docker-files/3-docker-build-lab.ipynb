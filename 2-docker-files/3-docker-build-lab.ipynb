{
 "cells": [
  {
   "cell_type": "markdown",
   "metadata": {},
   "source": [
    "# Dockerfile Build Lab"
   ]
  },
  {
   "cell_type": "markdown",
   "metadata": {},
   "source": [
    "### Introduction"
   ]
  },
  {
   "cell_type": "markdown",
   "metadata": {},
   "source": [
    "In this lab, we'll practice writing our own Dockerfile.  In doing so we'll follow the pattern of beginning from a base image, customing the image, and then adding a default command to execute the container with.  Let's get started."
   ]
  },
  {
   "cell_type": "markdown",
   "metadata": {},
   "source": [
    "### Writing our Dockerfile"
   ]
  },
  {
   "cell_type": "markdown",
   "metadata": {},
   "source": [
    "In this lab, let's use Docker to build off of the `jupyter/minimal-notebook` and then to add in the `Plotly` library with a call to `conda install plotly`.  Finally, let's set the default behavior of beginning the jupyter notebook with the `jupyter notebook` command.  \n",
    "\n",
    "Ok, let's get started."
   ]
  },
  {
   "cell_type": "markdown",
   "metadata": {},
   "source": [
    "\n",
    "\n",
    "1. Begin by creating a Dockerfile that performs the above commands."
   ]
  },
  {
   "cell_type": "markdown",
   "metadata": {},
   "source": [
    "2. Then, continue on by building the image, tag the image as `plotly-jupyter`."
   ]
  },
  {
   "cell_type": "markdown",
   "metadata": {},
   "source": [
    "> We can check that we tagged the image properly by listing all of the images and seeing the `plotly-jupyter` is there."
   ]
  },
  {
   "cell_type": "markdown",
   "metadata": {},
   "source": [
    "```\n",
    "REPOSITORY                 TAG                 IMAGE ID            CREATED             SIZE\n",
    "plotly-jupyter             latest              7b87215b87f4        4 minutes ago       1.79GB\n",
    "```"
   ]
  },
  {
   "cell_type": "markdown",
   "metadata": {},
   "source": [
    "### Trying out our image"
   ]
  },
  {
   "cell_type": "markdown",
   "metadata": {},
   "source": [
    "Now that we have built our image, we can check that we have properly installed conda and setup a default command by running the `plotly-jupyter` image in a new container map the port 8888 to the host's port 9999."
   ]
  },
  {
   "cell_type": "markdown",
   "metadata": {},
   "source": [
    "Then we can check that plotly has been installed by creating a new Python 3 file.  Type the following, and if there is no error, we added plotly correctly."
   ]
  },
  {
   "cell_type": "markdown",
   "metadata": {},
   "source": [
    "<img src=\"./working-plotly.png\" width=\"60%\">"
   ]
  },
  {
   "cell_type": "markdown",
   "metadata": {},
   "source": [
    "And now we can create pretty graphs in our notebook."
   ]
  },
  {
   "cell_type": "markdown",
   "metadata": {},
   "source": [
    "<img src=\"./building-graphs.png\" width=\"60%\">"
   ]
  },
  {
   "cell_type": "markdown",
   "metadata": {},
   "source": [
    "### Summary"
   ]
  },
  {
   "cell_type": "markdown",
   "metadata": {},
   "source": [
    "In this lesson, we practiced building our own docker images with a Dockerfile.  We saw that with our Dockerfile, we begin with some base image by using FROM base_image and then build onto the image with the RUN command.  Finally, we set our end with default command, with the keyword `CMD`."
   ]
  }
 ],
 "metadata": {
  "kernelspec": {
   "display_name": "Python 3",
   "language": "python",
   "name": "python3"
  },
  "language_info": {
   "codemirror_mode": {
    "name": "ipython",
    "version": 3
   },
   "file_extension": ".py",
   "mimetype": "text/x-python",
   "name": "python",
   "nbconvert_exporter": "python",
   "pygments_lexer": "ipython3",
   "version": "3.9.1"
  }
 },
 "nbformat": 4,
 "nbformat_minor": 4
}
