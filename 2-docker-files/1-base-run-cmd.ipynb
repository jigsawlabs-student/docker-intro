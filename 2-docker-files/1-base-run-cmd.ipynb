{
 "cells": [
  {
   "cell_type": "markdown",
   "metadata": {},
   "source": [
    "# Building an Image"
   ]
  },
  {
   "cell_type": "markdown",
   "metadata": {},
   "source": [
    "### Introduction"
   ]
  },
  {
   "cell_type": "markdown",
   "metadata": {},
   "source": [
    "So far we have downloaded images from Dockerhub, and we have used those images to run containers.  But to be a really be able to use Docker, we need the ability to create an image ourselves.  Doing so will also allow us to better understand the other images that we use."
   ]
  },
  {
   "cell_type": "markdown",
   "metadata": {},
   "source": [
    "### DockerFile Framework"
   ]
  },
  {
   "cell_type": "markdown",
   "metadata": {},
   "source": [
    "Docker images are constructed according to a Dockerfile.  Let's see an example by looking at part of our [Ghost DockerFile](https://github.com/docker-library/ghost/blob/2a72c03e339bda5051b37edd0c553fe909e8408d/2/debian/Dockerfile)."
   ]
  },
  {
   "cell_type": "markdown",
   "metadata": {},
   "source": [
    "```Dockerfile\n",
    "# Dockerfile\n",
    "FROM node:10-slim\n",
    "\n",
    "ENV GOSU_VERSION 1.10\n",
    "RUN set -x \n",
    "...\n",
    "\n",
    "EXPOSE 2368\n",
    "CMD [\"node\", \"current/index.js\"]\n",
    "```"
   ]
  },
  {
   "cell_type": "markdown",
   "metadata": {},
   "source": [
    "At this point, we don't need to understand each of the lines above. For now, it's important to see that our Dockerfile follows a story.  It starts with previous images, builds on it, and then run some task.  This is the format all of our DockerFiles follow:\n",
    "\n",
    "```\n",
    "1. FROM base_image\n",
    "2. RUN build onto environment\n",
    "3. CMD to run this task\n",
    "```"
   ]
  },
  {
   "cell_type": "markdown",
   "metadata": {},
   "source": [
    "So the **FROM** starts from a previous image, the **RUN** is what we add to the environment, and the **CMD** is the task (or process)that is executed when we use an image to start up a new container.  \n",
    "\n",
    "> In the above Dockerfile, we start the new container by calling `CMD [node, currrent/index.js]`, which starts up a new server."
   ]
  },
  {
   "cell_type": "markdown",
   "metadata": {},
   "source": [
    "### Building an Image"
   ]
  },
  {
   "cell_type": "markdown",
   "metadata": {},
   "source": [
    "Ok, now let's try to use Docker to build an environment that (1) runs a Jupyer notebook and (2) installs software to download kaggle data.  To do so, we'll:\n",
    "\n",
    "1. Start with a Jupyter notebook, and then\n",
    "2. Add in the kaggle package.  And then\n",
    "3. Start up the server\n",
    "\n",
    "Let's do this via a Dockerfile.\n",
    "\n",
    "First, let's make a folder called `jupyter-kaggle` and add a new Dockerfile to it.  \n",
    "\n",
    "> From the terminal, do the following:\n",
    "\n",
    "```bash\n",
    "mkdir jupyter-kaggle\n",
    "touch Dockerfile\n",
    "```\n",
    "> Notice that **there is no extension** at the end of our Dockerfile (like `.js` or `.doc`)."
   ]
  },
  {
   "cell_type": "markdown",
   "metadata": {},
   "source": [
    "Next, let's begin to fill in our Dockerfile, by following our format:\n",
    "\n",
    "1. FROM base_image\n",
    "2. RUN build onto environment\n",
    "3. CMD to run this task"
   ]
  },
  {
   "cell_type": "markdown",
   "metadata": {},
   "source": [
    "Ok, so now let's just fill in the file.  The first and last steps are often easy to fill in.\n",
    "\n",
    "```DockerFile\n",
    "# 1. FROM base_image\n",
    "FROM jupyter/scipy-notebook\n",
    "\n",
    "# 2. RUN build onto environment\n",
    "\n",
    "# 3. CMD to run this task\n",
    "CMD [\"jupyter\", \"notebook\"]\n",
    "```"
   ]
  },
  {
   "cell_type": "markdown",
   "metadata": {},
   "source": [
    "To install the kaggle package into our jupyter notebook, we can execute `conda install kaggle` in command line.  Translating this into a Dockerfile looks like the following.  \n",
    "\n",
    "```Dockerfile\n",
    "# Dockerfile\n",
    "# 1. FROM base_image\n",
    "FROM jupyter/scipy-notebook\n",
    "\n",
    "# 2. RUN build onto environment\n",
    "RUN conda install 'kaggle'\n",
    "\n",
    "# 3. CMD to run this task\n",
    "CMD [\"jupyter\", \"notebook\"]\n",
    "```"
   ]
  },
  {
   "cell_type": "markdown",
   "metadata": {},
   "source": [
    "> We can see a similar pattern if we look at the [jupyter/scipy-notebook Dockerfile](https://hub.docker.com/r/jupyter/scipy-notebook/dockerfile) file."
   ]
  },
  {
   "cell_type": "markdown",
   "metadata": {},
   "source": [
    "### Building the Image"
   ]
  },
  {
   "cell_type": "markdown",
   "metadata": {},
   "source": [
    "Now that we have written our Dockerfile, it's time to build our image.  Back in our terminal, from the same folder of our `Dockerfile`, we run the following:\n",
    "\n",
    "```bash\n",
    "docker build .\n",
    "```\n",
    "Upon doing so, we'll see something like the following: \n",
    "\n",
    "```\n",
    "Sending build context to Docker daemon  2.048kB\n",
    "Step 1/3 : FROM jupyter/scipy-notebook\n",
    " ---> 844815ed865e\n",
    "Step 2/3 : RUN conda install 'kaggle'\n",
    " ---> Running in 4f5b1210656d\n",
    "Collecting package metadata (current_repodata.json): ...working... done\n",
    "Solving environment: ...working... done\n",
    "\n",
    "...\n",
    "\n",
    "Removing intermediate container 4f5b1210656d\n",
    " ---> 29886ca05035\n",
    "Step 3/3 : CMD [\"jupyter\", \"notebook\"]\n",
    " ---> Running in 5b0a8c54d511\n",
    "Removing intermediate container 5b0a8c54d511\n",
    " ---> 09c2125c0a49\n",
    "Successfully built 09c2125c0a49\n",
    "```"
   ]
  },
  {
   "cell_type": "markdown",
   "metadata": {},
   "source": [
    "The last line is the `id` of the new image that is built.  Now to have something easier to remember than the id, let's give our image a name by building and tagging our image with the following:\n",
    "\n",
    "`docker build -t jeffkatzy/jupyter-kaggle .`\n",
    "\n",
    "```\n",
    "Sending build context to Docker daemon  2.048kB\n",
    "Step 1/3 : FROM jupyter/scipy-notebook\n",
    " ---> 844815ed865e\n",
    "Step 2/3 : RUN conda install 'kaggle'\n",
    " ---> Using cache\n",
    " ---> 29886ca05035\n",
    "Step 3/3 : CMD [\"jupyter\", \"notebook\"]\n",
    " ---> Using cache\n",
    " ---> 09c2125c0a49\n",
    "Successfully built 09c2125c0a49\n",
    "Successfully tagged jeffkatzy/jupyter-kaggle:latest\n",
    "```"
   ]
  },
  {
   "cell_type": "markdown",
   "metadata": {},
   "source": [
    "### Viewing our Image"
   ]
  },
  {
   "cell_type": "markdown",
   "metadata": {},
   "source": [
    "We can run our new image, just like others with the following: \n",
    "\n",
    "`docker run -p 8899:8888 jupyter-kaggle`"
   ]
  },
  {
   "cell_type": "markdown",
   "metadata": {},
   "source": [
    "### Summary"
   ]
  },
  {
   "cell_type": "markdown",
   "metadata": {},
   "source": [
    "In this lesson, we saw how to build a docker image.  We build a docker image with a `Dockerfile` that follows the structure of: \n",
    "\n",
    "```python \n",
    "# 1. FROM base_image\n",
    "# 2. RUN build onto environment\n",
    "# 3. CMD to run this task\n",
    "```\n",
    "\n",
    "Following that format, our Dockerfile looked like the following:\n",
    "\n",
    "```Dockerfile\n",
    "# jupyter-kaggle/Dockerfile\n",
    "# 1. FROM base_image\n",
    "FROM jupyter/scipy-notebook\n",
    "\n",
    "# 2. RUN build onto environment\n",
    "RUN conda install 'kaggle'\n",
    "\n",
    "# 3. CMD to run this task\n",
    "CMD [\"jupyter\", \"notebook\"]\n",
    "```\n",
    "\n",
    "We then built the image with the command: \n",
    "\n",
    "`docker build .`"
   ]
  },
  {
   "cell_type": "markdown",
   "metadata": {},
   "source": [
    "### Resources\n",
    "\n",
    "[Tiny Containers](https://blog.iron.io/microcontainers-tiny-portable-containers/)\n",
    "\n",
    "[Docker Python](https://blog.realkinetic.com/building-minimal-docker-containers-for-python-applications-37d0272c52f3?gi=1a4e7a42778e)\n",
    "\n",
    "[With Authentication](https://github.com/Paperspace/jupyter-docker-stacks/tree/master/scipy-notebook)\n",
    "\n",
    "[DockerFile Documentation](https://docs.docker.com/engine/reference/builder/#understand-how-cmd-and-entrypoint-interact)"
   ]
  }
 ],
 "metadata": {
  "kernelspec": {
   "display_name": "Python 3",
   "language": "python",
   "name": "python3"
  },
  "language_info": {
   "codemirror_mode": {
    "name": "ipython",
    "version": 3
   },
   "file_extension": ".py",
   "mimetype": "text/x-python",
   "name": "python",
   "nbconvert_exporter": "python",
   "pygments_lexer": "ipython3",
   "version": "3.8.3"
  }
 },
 "nbformat": 4,
 "nbformat_minor": 4
}
