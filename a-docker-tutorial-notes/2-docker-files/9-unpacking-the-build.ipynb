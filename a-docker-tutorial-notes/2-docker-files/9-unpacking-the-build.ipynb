{
 "cells": [
  {
   "cell_type": "markdown",
   "metadata": {},
   "source": [
    "# Going Deeper with Building Images"
   ]
  },
  {
   "cell_type": "markdown",
   "metadata": {},
   "source": [
    "### Introduction"
   ]
  },
  {
   "cell_type": "markdown",
   "metadata": {},
   "source": [
    "### Unpacking the steps "
   ]
  },
  {
   "cell_type": "markdown",
   "metadata": {},
   "source": [
    "In the last lesson, we saw that we performed three steps with building an image:\n",
    "\n",
    "```python \n",
    "# 1. FROM base_image\n",
    "# 2. RUN build onto environment\n",
    "# 3. CMD to run this task\n",
    "```\n",
    "\n",
    "And that we applied them, with the following:\n",
    "\n",
    "```python\n",
    "# jupyter-kaggle/Dockerfile\n",
    "FROM jupyter/scipy-notebook\n",
    "RUN conda install 'kaggle'\n",
    "CMD [\"jupyter\", \"notebook\"]\n",
    "```"
   ]
  },
  {
   "cell_type": "markdown",
   "metadata": {},
   "source": [
    "Now, let's unpack these steps."
   ]
  },
  {
   "cell_type": "markdown",
   "metadata": {},
   "source": [
    "**1.  Choosing the base image?**\n",
    "\n",
    "We choose the base image to prevent us from building a new image from scratch.  For choosing a base image, we can look the at the image's Dockerfile on Dockerhub to see what software the image comes pre-installed with.  For different Jupyter images, we can visit the [jupyter/docker-stacks repo](https://github.com/jupyter/docker-stacks).  In our earlier lesson, we used the [jupyter/scipy-notebook](https://hub.docker.com/r/jupyter/scipy-notebook/dockerfile).\n",
    "\n",
    "**2. Adding customizations**\n",
    "\n",
    "From there, we build on the image.  In building our customer image, we did so with the line: \n",
    "\n",
    "```python\n",
    "RUN conda install 'kaggle'\n",
    "```\n",
    "\n",
    "Now `RUN` is part of the docker language.  But how could we execute a command like `conda install`?  Well we only could if `conda` was already installed in our image.  And while we do not see it installed in the current `jupyter/scipy-notebook` Dockerfile, we can see that the base image is `minimal-notebook`.  Following that images base image of [jupyter/base-notebook](https://hub.docker.com/r/jupyter/base-notebook/dockerfile), we see that it is installed there.\n",
    "\n",
    "```python\n",
    "RUN cd /tmp && \\\n",
    "    wget --quiet https://repo.continuum.io/miniconda/Miniconda3-${MINICONDA_VERSION}-Linux-x86_64.sh && \\\n",
    "\n",
    "```"
   ]
  },
  {
   "cell_type": "markdown",
   "metadata": {},
   "source": [
    "And this `wget` command is only because it is available on the *base-notebook's* base image of *ubuntu*."
   ]
  },
  {
   "cell_type": "markdown",
   "metadata": {},
   "source": [
    "**3. Finishing with CMD**\n",
    "\n",
    "Finally, we end each Dockerfile with CMD.  The CMD always takes a list as an argument.  The command task is booted up when the image is used to run a container."
   ]
  },
  {
   "cell_type": "markdown",
   "metadata": {},
   "source": [
    "### The build process"
   ]
  },
  {
   "cell_type": "markdown",
   "metadata": {},
   "source": [
    "Now to build our image we run `docker build .` \n",
    "\n",
    "That `.` at the end of `docker build` is our build context.  With it, we are specifying the directory with the Dockerfile, which in this case is the current directory.  "
   ]
  },
  {
   "cell_type": "markdown",
   "metadata": {},
   "source": [
    "After running `docker build .`, our terminal displays all of the steps in the docker build process.  And additional line in our dockerfile leads to another step.  This is what we saw:"
   ]
  },
  {
   "cell_type": "markdown",
   "metadata": {},
   "source": [
    "```\n",
    "Sending build context to Docker daemon  2.048kB\n",
    "Step 1/3 : FROM jupyter/scipy-notebook\n",
    " ---> 844815ed865e\n",
    "Step 2/3 : RUN conda install 'kaggle'\n",
    " ---> Running in 4f5b1210656d\n",
    "Collecting package metadata (current_repodata.json): ...working... done\n",
    "Solving environment: ...working... done\n",
    "\n",
    "...\n",
    "\n",
    "Removing intermediate container 4f5b1210656d\n",
    " ---> 29886ca05035\n",
    "Step 3/3 : CMD [\"jupyter\", \"notebook\"]\n",
    " ---> Running in 5b0a8c54d511\n",
    "Removing intermediate container 5b0a8c54d511\n",
    " ---> 09c2125c0a49\n",
    "Successfully built 09c2125c0a49\n",
    "```"
   ]
  },
  {
   "cell_type": "markdown",
   "metadata": {},
   "source": [
    "Ok, so let's unpack what is happening here. \n",
    "\n",
    "* Step 1/3: Docker uses the existing `jupyter/scipy-notebook` and then outputting the image id `---> 844815ed865e`.\n",
    "\n",
    "* Step 2/3:  `---> Running in 4f5b1210656d` is the *container id*.  This means that Docker used the previous image to boot up a new container, with id `4f5b1210656d` and in that container installed kaggle.  \n",
    "\n",
    "* `Removing intermediate container 5b0a8c54d511\n",
    " ---> 09c2125c0a49` states that the previous step is complete, we can use the updated container to output a new image, and then remove the old container.\n",
    " \n",
    "* Step 3/3: A similar process occurs of starting a new container with the previous image, adding something to the container (here the `CMD [\"jupyter\", \"notebook\"]`, and then producing a new image and removing the container."
   ]
  },
  {
   "cell_type": "markdown",
   "metadata": {},
   "source": [
    "### The build cache\n",
    "\n",
    "Finally notice what happens when we rebuild the image.  Docker, in it's words uses the `cache`.\n",
    "\n",
    "`docker build -t jeffkatzy/jupyter-kaggle .`\n",
    "\n",
    "```\n",
    "Sending build context to Docker daemon  2.048kB\n",
    "Step 1/3 : FROM jupyter/scipy-notebook\n",
    " ---> 844815ed865e\n",
    "Step 2/3 : RUN conda install 'kaggle'\n",
    " ---> Using cache\n",
    " ---> 29886ca05035\n",
    "Step 3/3 : CMD [\"jupyter\", \"notebook\"]\n",
    " ---> Using cache\n",
    " ---> 09c2125c0a49\n",
    "Successfully built 09c2125c0a49\n",
    "Successfully tagged jeffkatzy/jupyter-kaggle:latest\n",
    "```\n",
    "\n",
    "Essentially, in `Step 2/3`, Docker sees that it has already gone from a `jupyter/scipy-notebook` image to `RUN conda install 'kaggle'` and therefore does not need to re-initialize a container, and turn that into an image.  Instead it just uses the cache, or the previous intermediate image, and then moves on from there.  "
   ]
  },
  {
   "cell_type": "markdown",
   "metadata": {},
   "source": [
    "### Summary"
   ]
  },
  {
   "cell_type": "code",
   "execution_count": null,
   "metadata": {},
   "outputs": [],
   "source": []
  }
 ],
 "metadata": {
  "kernelspec": {
   "display_name": "Python 3",
   "language": "python",
   "name": "python3"
  },
  "language_info": {
   "codemirror_mode": {
    "name": "ipython",
    "version": 3
   },
   "file_extension": ".py",
   "mimetype": "text/x-python",
   "name": "python",
   "nbconvert_exporter": "python",
   "pygments_lexer": "ipython3",
   "version": "3.8.3"
  }
 },
 "nbformat": 4,
 "nbformat_minor": 4
}
