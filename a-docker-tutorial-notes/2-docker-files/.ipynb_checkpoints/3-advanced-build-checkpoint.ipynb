{
 "cells": [
  {
   "cell_type": "markdown",
   "metadata": {},
   "source": [
    "# Adding Local Files to an Image"
   ]
  },
  {
   "cell_type": "markdown",
   "metadata": {},
   "source": [
    "### Introduction"
   ]
  },
  {
   "cell_type": "markdown",
   "metadata": {},
   "source": [
    "1. `ADD` which allows us to copy files from our host machine to our Docker image, and\n",
    "2. `WORKDIR`, which allows us change the directory of that our commands are run on the image.\n",
    "\n",
    "Let's keep going to learn more about both."
   ]
  },
  {
   "cell_type": "markdown",
   "metadata": {},
   "source": [
    "### Using kaggle"
   ]
  },
  {
   "cell_type": "markdown",
   "metadata": {},
   "source": [
    "This error, indicates that kaggle is indeed installed -- after all if we look at there wrror message it is from `opt/conda/bin/kaggle`.  However, we do not have the `kaggle.json` with our kaggle credentials in our docker image.  "
   ]
  },
  {
   "cell_type": "markdown",
   "metadata": {},
   "source": [
    "### Getting our Kaggle Files"
   ]
  },
  {
   "cell_type": "markdown",
   "metadata": {},
   "source": [
    "We can find these credentials with the following:\n",
    "\n",
    "* Go to [kaggle.com](https://www.kaggle.com/) > Account section, and then click on \"Create New API Token\"\n",
    "* This will download a `kaggle.json` file to your local computer\n",
    "\n",
    "Now let's move the file into the same directory as our Dockerfile, and try rebuilding our image."
   ]
  },
  {
   "cell_type": "markdown",
   "metadata": {},
   "source": [
    "`(base) [jupyter-kaggle (master)*]$ ls`\n",
    "```\n",
    "Dockerfile    kaggle.json\n",
    "```"
   ]
  },
  {
   "cell_type": "markdown",
   "metadata": {},
   "source": [
    "`docker build -t jeffkatzy/jupyter-kaggle .`"
   ]
  },
  {
   "cell_type": "markdown",
   "metadata": {},
   "source": [
    "Next, let's boot up a new container with this image.  "
   ]
  },
  {
   "cell_type": "markdown",
   "metadata": {},
   "source": [
    "\n",
    "```\n",
    "(base) [~]$ docker ps\n",
    "CONTAINER ID  IMAGE                 COMMAND                    PORTS                  NAMES\n",
    "271815bc9b0f  jek2141/jupyter-kaggle \"tini -g -- jupyter …\"   0.0.0.0:8099->8888/tcp  romantic_montalcini\n",
    "```\n",
    "\n",
    "`docker run  jeffkatzy/jupyter-kaggle -it sh`"
   ]
  },
  {
   "cell_type": "markdown",
   "metadata": {},
   "source": [
    "If we type in `kaggle` we can see from the error message that it isn't."
   ]
  },
  {
   "cell_type": "markdown",
   "metadata": {},
   "source": [
    "```\n",
    "$ kaggle\n",
    "\n",
    "OSError: Could not find kaggle.json. Make sure it's located in /home/jovyan/.kaggle. Or use the environment method.\n",
    "```"
   ]
  },
  {
   "cell_type": "markdown",
   "metadata": {},
   "source": [
    "The problem, is that remember our images and containers are namespaced away from the rest of our harddrive.  So our container does not contain any of the host's local files."
   ]
  },
  {
   "cell_type": "markdown",
   "metadata": {},
   "source": [
    "### The Dockerfile fix"
   ]
  },
  {
   "cell_type": "markdown",
   "metadata": {},
   "source": [
    "It turns that we can select files from our local computer and place them in our image.  We just need to be explicit in doing so.  Here, we move the `kaggle.json` file in our local computer to our image.\n",
    "\n",
    "```python\n",
    "FROM jupyter/scipy-notebook\n",
    "\n",
    "RUN conda install 'kaggle'\n",
    "\n",
    "COPY ./kaggle.json ./\n",
    "\n",
    "CMD [\"jupyter\", \"notebook\"]\n",
    "```"
   ]
  },
  {
   "cell_type": "markdown",
   "metadata": {},
   "source": [
    "### Working Directory"
   ]
  },
  {
   "cell_type": "markdown",
   "metadata": {},
   "source": [
    "To add a new directory inside of our image, we need to learn a new command: `WORKDIR`.\n",
    "\n",
    "Now `WORKDIR` can be used for a number of tasks in our Dockerfile.\n",
    "\n",
    "* It changes the current directory when building the image, similar to the `cd` command \n",
    "* If that folder does not exist, it will create that specified directory"
   ]
  },
  {
   "cell_type": "markdown",
   "metadata": {},
   "source": [
    "Ok, let's use `WORKDIR` to ensure that we place the `kaggle.json` file in the correct location."
   ]
  },
  {
   "cell_type": "markdown",
   "metadata": {},
   "source": [
    "### Wrapping Up: Specifying Environment Variables"
   ]
  },
  {
   "cell_type": "markdown",
   "metadata": {},
   "source": [
    "Now we see that our kaggle command currently works, but we still get a warning that we should run:\n",
    "\n",
    "`chmod 600 /home/jovyan/.kaggle/kaggle.json`\n",
    "\n",
    "But if we try this from the container, we'll see we do not have current permissions to do this. \n"
   ]
  },
  {
   "cell_type": "markdown",
   "metadata": {},
   "source": [
    "```bash\n",
    "$ chmod 600 .kaggle/kaggle.json\n",
    "chmod: changing permissions of '.kaggle/kaggle.json': Operation not permitted\n",
    "```"
   ]
  },
  {
   "cell_type": "markdown",
   "metadata": {},
   "source": [
    "We need to be a superuser.  According to the [Dockerstacks documentation](https://jupyter-docker-stacks.readthedocs.io/en/latest/using/common.html), we can change our user when we start our container by setting an environment variable of `GRANT_SUDO=yes`.  There are two ways we can set an environment variable through docker.\n",
    "\n",
    "**1. Through a build argument**\n",
    "\n",
    "`docker run -it jek2141/jupyter-kaggle -e GRANT_SUDO=yes --user root sh`\n",
    "\n",
    "This sets the the `GRANT_SUDO` environmental variable to `yes` in the container.  \n",
    "\n",
    "```\n",
    "$ printenv\n",
    "\n",
    "GRANT_SUDO=yes\n",
    "...\n",
    "```"
   ]
  },
  {
   "cell_type": "markdown",
   "metadata": {},
   "source": [
    "**2. Through a Dockerfile**"
   ]
  },
  {
   "cell_type": "markdown",
   "metadata": {},
   "source": [
    "```python\n",
    "FROM jupyter/scipy-notebook\n",
    "\n",
    "RUN conda install 'kaggle'\n",
    "\n",
    "WORKDIR .kaggle\n",
    "COPY ./kaggle.json ./\n",
    "\n",
    "WORKDIR ..\n",
    "\n",
    "ENV GRANT_SUDO=yes\n",
    "\n",
    "USER root \n",
    "\n",
    "RUN chmod 600 .kaggle/kaggle.json\n",
    "CMD [\"jupyter\", \"notebook\"]\n",
    "```"
   ]
  },
  {
   "cell_type": "markdown",
   "metadata": {},
   "source": [
    "`docker build -t jek2141/jupyter-kaggle .`"
   ]
  },
  {
   "cell_type": "markdown",
   "metadata": {},
   "source": [
    "And this automates the process properly."
   ]
  },
  {
   "cell_type": "markdown",
   "metadata": {},
   "source": [
    "### Resources\n",
    "\n",
    "[Docker Secrets](https://pythonspeed.com/articles/build-secrets-docker-compose/)"
   ]
  }
 ],
 "metadata": {
  "kernelspec": {
   "display_name": "Python 3",
   "language": "python",
   "name": "python3"
  },
  "language_info": {
   "codemirror_mode": {
    "name": "ipython",
    "version": 3
   },
   "file_extension": ".py",
   "mimetype": "text/x-python",
   "name": "python",
   "nbconvert_exporter": "python",
   "pygments_lexer": "ipython3",
   "version": "3.8.3"
  }
 },
 "nbformat": 4,
 "nbformat_minor": 4
}
