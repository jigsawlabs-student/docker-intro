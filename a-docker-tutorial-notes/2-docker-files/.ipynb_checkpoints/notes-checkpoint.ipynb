{
 "cells": [
  {
   "cell_type": "markdown",
   "metadata": {},
   "source": [
    "# Docker Files"
   ]
  },
  {
   "cell_type": "markdown",
   "metadata": {},
   "source": [
    "### Introduction"
   ]
  },
  {
   "cell_type": "markdown",
   "metadata": {},
   "source": [
    "So far we have been using images that have been created by other engineers.  And now let's see how we can make our own custom images."
   ]
  },
  {
   "cell_type": "markdown",
   "metadata": {},
   "source": [
    "### Steps"
   ]
  },
  {
   "cell_type": "markdown",
   "metadata": {},
   "source": [
    "* DockerFile - plain text file with a couple of lines of configuration inside of it\n",
    "\n",
    "* Docker Client which passes it to the docker server\n",
    "* Docker Server - builds a usable image that can be used to startup a new container\n",
    "\n"
   ]
  },
  {
   "cell_type": "markdown",
   "metadata": {},
   "source": [
    "### Docker File Steps\n",
    "   1. Specify a base image\n",
    "   2. Run some commands to install additional programs\n",
    "   3. Specify a command to start on run"
   ]
  },
  {
   "cell_type": "markdown",
   "metadata": {},
   "source": [
    "### Building a Docker File\n",
    "\n",
    "* Goal create an image that runs redis-server\n",
    "\n",
    "`mkdir redis-image`\n",
    "\n",
    "`cd redis-image`\n",
    "\n",
    "`Dockerfile`\n",
    "    * Note that there is no extension here\n",
    "    * Write out the comments\n",
    "        * use existing docker image\n",
    "        * download and install dependency\n",
    "        * tell image what to do when starts as a container"
   ]
  },
  {
   "cell_type": "markdown",
   "metadata": {},
   "source": [
    "```text\n",
    "\n",
    "From alpine\n",
    "RUN apk add --update redis\n",
    "CMD ['redis-server']\n",
    "\n",
    "```"
   ]
  },
  {
   "cell_type": "markdown",
   "metadata": {},
   "source": [
    "`docker build .`"
   ]
  },
  {
   "cell_type": "markdown",
   "metadata": {},
   "source": [
    "* Then we see a bunch of outputs, and then successfully built\n",
    "* `docker run id`"
   ]
  },
  {
   "cell_type": "markdown",
   "metadata": {},
   "source": [
    "### Explaining what we did "
   ]
  },
  {
   "cell_type": "markdown",
   "metadata": {},
   "source": [
    "* Now do a deep dive on the configuration that we added to it "
   ]
  },
  {
   "cell_type": "markdown",
   "metadata": {},
   "source": [
    "So now we have all of these instructions: "
   ]
  },
  {
   "cell_type": "markdown",
   "metadata": {},
   "source": [
    "* Every line of configuration begins with an instruction"
   ]
  },
  {
   "cell_type": "markdown",
   "metadata": {},
   "source": [
    "1. `From` alpine\n",
    "    * Specifies the base docker image\n",
    "2. `RUN` apk add --update redis\n",
    "    * Execute a command while running the custom image\n",
    "3. `CMD` []\n",
    "    * What to execute when image is used to startup a new container"
   ]
  },
  {
   "cell_type": "markdown",
   "metadata": {},
   "source": [
    "* Each instruction needs an argument"
   ]
  },
  {
   "cell_type": "markdown",
   "metadata": {},
   "source": [
    "### Understanding the base image"
   ]
  },
  {
   "cell_type": "markdown",
   "metadata": {},
   "source": [
    "* `From alpine`\n",
    "    * We used this because it comes preinstalled with programs useful to us "
   ]
  },
  {
   "cell_type": "markdown",
   "metadata": {},
   "source": [
    "`apk` apache package \n",
    "    * It's a package manager that comes pre-installed on the alpine image, and we can use it to download and install redis for us \n",
    "    * "
   ]
  },
  {
   "cell_type": "markdown",
   "metadata": {},
   "source": [
    "### Docker Build Command in detail\n",
    "    * We use docker build and it's tied to the CLI\n",
    "    * This gives it to the docker server \n",
    "    * So this gives it off to the CLI, and generates an image from it, and the . is the build context\n",
    "    * This is the set of files or folders we want to wrap inside of the container\n",
    "    * Then we see the outputs\n",
    "        * For each line, we get a step"
   ]
  },
  {
   "cell_type": "markdown",
   "metadata": {},
   "source": [
    "So first tries FROM Alpine\n",
    "    * So then reaches out to dockerhub to pull this\n",
    "RUN apk add --update redis\n",
    "    * Notice that we see `running in`\n",
    "    * Looks at the image of the previous step, and then took the image and created a new container out of it\n",
    "    * So created a temporary container for the second instruction, and then the command was executed inside of the container\n",
    "    * And then perhaps we got some new files and \n",
    "    * So now have a container that has this, so we then (1) stop the container (2) took a file system snapshot (3) and we save it as a temporary image with that id\n",
    "    And this is the id to a temporary image\n",
    "    And inside the image we now have an installed copied of redis\n",
    "    \n",
    "Then with CMD, look at the image from the previous step\n",
    "    * Create a new temporary container out of it, take the snapshot and stuff it into the container\n",
    "    * So then is told this is the command to run if started, and then shuts down, and snapshots the filesystem and the command"
   ]
  },
  {
   "cell_type": "markdown",
   "metadata": {},
   "source": [
    "Summary \n",
    "\n",
    "So with every step, we take the image from the previous step, take a new container out of it, and execute a command in the container, or make a change to the file system, and save it as an output for the next instruction in the chain.  And then the image is the output as the final\n",
    "    \n",
    "    "
   ]
  },
  {
   "cell_type": "markdown",
   "metadata": {},
   "source": [
    "* Rebuilds with cache\n",
    "\n",
    "So we know that with each instruction, we get a new image \n",
    "\n",
    "* Now we insert a new instruction\n",
    "* So then this will add in a new instruction \n",
    "\n",
    "So now let's rebuild the image a second time \n",
    "* So now with running redis\n",
    "    * Docker realized that nothing has changed, that it gets the same image, and same for previous step, it just uses the image that generated from the previous step again\n",
    "    * But then when something has changed, cannot use the cache anymore \n",
    "    \n",
    "* So takeaway is that it only runs the series of steps from the changed line on down\n",
    "* So once the order of operations is different, the cache cannot be used"
   ]
  },
  {
   "cell_type": "markdown",
   "metadata": {},
   "source": [
    "### Tagging an image"
   ]
  },
  {
   "cell_type": "markdown",
   "metadata": {},
   "source": [
    "`docker build -t tag created image`"
   ]
  },
  {
   "cell_type": "markdown",
   "metadata": {},
   "source": [
    "* Convention for an image is \n",
    "    * your dockerid \n",
    "    * `/` repo or project name \n",
    "    * : verion\n",
    "    \n",
    "    * .\n",
    "    \n",
    "To specify that build context.  The source of the files and folders to build the containers out."
   ]
  },
  {
   "cell_type": "code",
   "execution_count": null,
   "metadata": {},
   "outputs": [],
   "source": []
  }
 ],
 "metadata": {
  "kernelspec": {
   "display_name": "Python 3",
   "language": "python",
   "name": "python3"
  },
  "language_info": {
   "codemirror_mode": {
    "name": "ipython",
    "version": 3
   },
   "file_extension": ".py",
   "mimetype": "text/x-python",
   "name": "python",
   "nbconvert_exporter": "python",
   "pygments_lexer": "ipython3",
   "version": "3.7.3"
  }
 },
 "nbformat": 4,
 "nbformat_minor": 2
}
