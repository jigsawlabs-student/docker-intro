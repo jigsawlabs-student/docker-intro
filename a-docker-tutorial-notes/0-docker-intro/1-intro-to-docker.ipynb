{
 "cells": [
  {
   "cell_type": "markdown",
   "metadata": {},
   "source": [
    "# A Whirlwind tour of Docker"
   ]
  },
  {
   "cell_type": "markdown",
   "metadata": {},
   "source": [
    "### Introduction"
   ]
  },
  {
   "cell_type": "markdown",
   "metadata": {},
   "source": [
    "So that now that we've downloaded the docker software,  let's give it a spin.  We can start by using Docker to install a pretty nice blog on our computer.  Let's get started."
   ]
  },
  {
   "cell_type": "markdown",
   "metadata": {},
   "source": [
    "### Docker Command Line"
   ]
  },
  {
   "cell_type": "markdown",
   "metadata": {},
   "source": [
    "We can make sure that docker is installed, by typing the following:"
   ]
  },
  {
   "cell_type": "markdown",
   "metadata": {},
   "source": [
    "```\n",
    "docker -v\n",
    "Docker version 19.03.12, build 48a66213fe\n",
    "```"
   ]
  },
  {
   "cell_type": "markdown",
   "metadata": {},
   "source": [
    "```\n",
    "docker pull ghost\n",
    "```"
   ]
  },
  {
   "cell_type": "markdown",
   "metadata": {},
   "source": [
    "### Working with Containers"
   ]
  },
  {
   "cell_type": "markdown",
   "metadata": {},
   "source": [
    "And then re-running our container, this time updating our command to the following:\n",
    "\n",
    "`docker run -p 8080:2368 ghost`"
   ]
  },
  {
   "cell_type": "markdown",
   "metadata": {},
   "source": [
    "<img src=\"./working-ghost.png\" width=\"60%\">"
   ]
  },
  {
   "cell_type": "markdown",
   "metadata": {},
   "source": [
    "Then go to `localhost:8080` and we'll see our fully functional blogging platform."
   ]
  },
  {
   "cell_type": "markdown",
   "metadata": {},
   "source": [
    "## Time for the Questions"
   ]
  },
  {
   "cell_type": "markdown",
   "metadata": {},
   "source": [
    "At this point, we have just a bit of knowledge about Docker.  Perhaps enough knowledge to piece together some questions.  Let's try."
   ]
  },
  {
   "cell_type": "markdown",
   "metadata": {},
   "source": [
    "1. Images \n",
    "\n",
    "It sounds like we used an image to download our software.  But we're still not quite sure what an image is.  Also, when we initially pulled our image, we saw the following:\n",
    "\n",
    "```\n",
    "latest: Pulling from library/ghost\n",
    "d121f8d1c412: Already exists\n",
    "3a54a24e4e59: Already exists\n",
    "8aa65a634fc0: Already exists\n",
    "7634d710af87: Already exists\n",
    "```\n",
    "\n",
    "Each of these ids to the left is identifying another image used for ghost.  So images inside images?  Yes.  We'll learn why.\n",
    "\n",
    "2. Containers\n",
    "\n",
    "It sounds like we run an image by booting up a container.  But how does a container relate to an image?  We'll learn how.\n",
    "\n",
    "3. Isolation\n",
    "\n",
    "When we ran our container the first time with `docker run ghost` at the bottom of the terminal, it said our website was available at `localhost:2368`.  But really, our website was inaccessible until we updated our command to the following: \n",
    "\n",
    "`docker run -p 8080:2368 ghost`\n",
    "\n",
    "Docker was initially isolating the container from the rest of our computer, and then we asked Docker to expose a part of this container (it's port) to `8080`.  Only then could we see our website.  We'll learn about how Docker isolates our environments and why it's important."
   ]
  },
  {
   "cell_type": "markdown",
   "metadata": {},
   "source": [
    "But we'll leave all of these questions for the next lesson."
   ]
  },
  {
   "cell_type": "markdown",
   "metadata": {},
   "source": [
    "### Resources \n",
    "[Docker for Windows](https://towardsdatascience.com/make-your-data-science-life-easy-with-docker-c3e1fc0dee59)"
   ]
  },
  {
   "cell_type": "markdown",
   "metadata": {},
   "source": [
    "[Docker Curriculum](https://docker-curriculum.com/)"
   ]
  }
 ],
 "metadata": {
  "kernelspec": {
   "display_name": "Python 3",
   "language": "python",
   "name": "python3"
  },
  "language_info": {
   "codemirror_mode": {
    "name": "ipython",
    "version": 3
   },
   "file_extension": ".py",
   "mimetype": "text/x-python",
   "name": "python",
   "nbconvert_exporter": "python",
   "pygments_lexer": "ipython3",
   "version": "3.8.3"
  }
 },
 "nbformat": 4,
 "nbformat_minor": 4
}
