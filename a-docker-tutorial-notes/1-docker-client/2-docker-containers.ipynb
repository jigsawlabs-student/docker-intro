{
 "cells": [
  {
   "cell_type": "markdown",
   "metadata": {},
   "source": [
    "# Docker Containers"
   ]
  },
  {
   "cell_type": "markdown",
   "metadata": {},
   "source": [
    "### Introduction"
   ]
  },
  {
   "cell_type": "markdown",
   "metadata": {},
   "source": [
    "<img src=\"./copy-on-write-container.png\" width=\"30%\">"
   ]
  },
  {
   "cell_type": "markdown",
   "metadata": {},
   "source": [
    "The image contents are read only, while the contents of a container are copy on write.  Ok, let's get started with using a container through the docker command line interface."
   ]
  },
  {
   "cell_type": "markdown",
   "metadata": {},
   "source": [
    "### From image to container\n",
    "\n",
    "Ok, so as we know the files of an image cannot be changed.  This means that to interact with any of the software in our image we need to turn our image into a container.  We can do so with the following command:\n",
    "\n",
    "`docker run image_name`"
   ]
  },
  {
   "cell_type": "markdown",
   "metadata": {},
   "source": [
    "With ghost, this translates to the following:"
   ]
  },
  {
   "cell_type": "markdown",
   "metadata": {},
   "source": [
    "`docker run ghost`\n",
    "\n",
    "```\n",
    "[2019-09-05 18:03:07] INFO Creating table: posts\n",
    "[2019-09-05 18:03:07] INFO Creating table: users\n",
    "[2019-09-05 18:03:07] INFO Creating table: posts_authors\n",
    "[2019-09-05 18:03:07] INFO Creating table: roles\n",
    "[2019-09-05 18:03:07] INFO Creating table: roles_users\n",
    "```"
   ]
  },
  {
   "cell_type": "markdown",
   "metadata": {},
   "source": [
    "We can see a list of all of our containers with the following:"
   ]
  },
  {
   "cell_type": "markdown",
   "metadata": {},
   "source": [
    "`docker container ls`"
   ]
  },
  {
   "cell_type": "markdown",
   "metadata": {},
   "source": [
    "```\n",
    "CONTAINER ID        IMAGE               COMMAND                  CREATED             STATUS              PORTS                  NAMES\n",
    "cb4864ef9c48        wernight/codiad     \"/entrypoint.sh s6-s…\"   2 hours ago         Up 2 hours          0.0.0.0:8080->80/tcp   zen_cannon\n",
    "```"
   ]
  },
  {
   "cell_type": "markdown",
   "metadata": {},
   "source": [
    "`docker stop zen_cannon`"
   ]
  },
  {
   "cell_type": "markdown",
   "metadata": {},
   "source": [
    "### Mapping a port from a container"
   ]
  },
  {
   "cell_type": "markdown",
   "metadata": {},
   "source": [
    "`docker run -p 8989:2368 ghost`"
   ]
  },
  {
   "cell_type": "markdown",
   "metadata": {},
   "source": [
    "### Summary"
   ]
  }
 ],
 "metadata": {
  "kernelspec": {
   "display_name": "Python 3",
   "language": "python",
   "name": "python3"
  },
  "language_info": {
   "codemirror_mode": {
    "name": "ipython",
    "version": 3
   },
   "file_extension": ".py",
   "mimetype": "text/x-python",
   "name": "python",
   "nbconvert_exporter": "python",
   "pygments_lexer": "ipython3",
   "version": "3.8.3"
  }
 },
 "nbformat": 4,
 "nbformat_minor": 4
}
