{
 "cells": [
  {
   "cell_type": "markdown",
   "metadata": {},
   "source": [
    "# Docker Images"
   ]
  },
  {
   "cell_type": "markdown",
   "metadata": {},
   "source": [
    "### Docker Images"
   ]
  },
  {
   "cell_type": "markdown",
   "metadata": {},
   "source": [
    "We'll begin with docker images."
   ]
  },
  {
   "cell_type": "markdown",
   "metadata": {},
   "source": [
    "> A Docker image is a union of layered files stacked on top of each other. "
   ]
  },
  {
   "cell_type": "markdown",
   "metadata": {},
   "source": [
    "1. Docker Pull"
   ]
  },
  {
   "cell_type": "markdown",
   "metadata": {},
   "source": [
    "2. Listing our Images"
   ]
  },
  {
   "cell_type": "markdown",
   "metadata": {},
   "source": [
    "We can see the ultimate image that was created, along with all of the other images with:\n",
    "\n",
    "`docker image ls` or `docker images`\n",
    "\n",
    "```\n",
    "REPOSITORY                     TAG                 IMAGE ID            CREATED             SIZE\n",
    "ghost                          latest              3aa346f8e22c        7 days ago          385MB\n",
    "```"
   ]
  },
  {
   "cell_type": "markdown",
   "metadata": {},
   "source": [
    "Above is a list of images on my computer."
   ]
  },
  {
   "cell_type": "markdown",
   "metadata": {},
   "source": [
    "3. Digging Deeper on an Image"
   ]
  },
  {
   "cell_type": "markdown",
   "metadata": {},
   "source": [
    "`docker image history ghost`\n",
    "```\n",
    "IMAGE               CREATED             CREATED BY                                      SIZE                COMMENT\n",
    "3aa346f8e22c        7 days ago          /bin/sh -c #(nop)  CMD [\"node\" \"current/inde…   0B\n",
    "<missing>           7 days ago          /bin/sh -c #(nop)  EXPOSE 2368                  0B\n",
    "<missing>           7 days ago          /bin/sh -c #(nop)  ENTRYPOINT [\"docker-entry…   0B\n",
    "```"
   ]
  },
  {
   "cell_type": "markdown",
   "metadata": {},
   "source": [
    "`docker inspect ghost`"
   ]
  }
 ],
 "metadata": {
  "kernelspec": {
   "display_name": "Python 3",
   "language": "python",
   "name": "python3"
  },
  "language_info": {
   "codemirror_mode": {
    "name": "ipython",
    "version": 3
   },
   "file_extension": ".py",
   "mimetype": "text/x-python",
   "name": "python",
   "nbconvert_exporter": "python",
   "pygments_lexer": "ipython3",
   "version": "3.8.3"
  }
 },
 "nbformat": 4,
 "nbformat_minor": 4
}
