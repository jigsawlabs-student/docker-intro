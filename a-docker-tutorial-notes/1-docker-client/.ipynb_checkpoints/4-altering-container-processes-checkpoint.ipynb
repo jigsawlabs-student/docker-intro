{
 "cells": [
  {
   "cell_type": "markdown",
   "metadata": {},
   "source": [
    "# Altering Container Processes"
   ]
  },
  {
   "cell_type": "markdown",
   "metadata": {},
   "source": [
    "### Introduction"
   ]
  },
  {
   "cell_type": "markdown",
   "metadata": {},
   "source": [
    "### 1. Default Commands"
   ]
  },
  {
   "cell_type": "markdown",
   "metadata": {},
   "source": [
    "\n",
    "\n",
    "`docker run -p 8989:2368 ghost`\n",
    "\n",
    "[DockerFile for our ghost image](https://github.com/docker-library/ghost/blob/2a72c03e339bda5051b37edd0c553fe909e8408d/2/debian/Dockerfile)."
   ]
  },
  {
   "cell_type": "markdown",
   "metadata": {},
   "source": [
    "```Dockerfile\n",
    "WORKDIR $GHOST_INSTALL\n",
    "VOLUME $GHOST_CONTENT\n",
    "\n",
    "COPY docker-entrypoint.sh /usr/local/bin\n",
    "ENTRYPOINT [\"docker-entrypoint.sh\"]\n",
    "\n",
    "EXPOSE 2368\n",
    "CMD [\"node\", \"current/index.js\"]\n",
    "```"
   ]
  },
  {
   "cell_type": "markdown",
   "metadata": {},
   "source": [
    "### 2. Altering the Behavior"
   ]
  },
  {
   "cell_type": "markdown",
   "metadata": {},
   "source": [
    "`(base) [~]$ docker run ghost ls`\n"
   ]
  },
  {
   "cell_type": "markdown",
   "metadata": {},
   "source": [
    "### 3. Stopping a Container \n"
   ]
  },
  {
   "cell_type": "markdown",
   "metadata": {},
   "source": [
    "A. Automatic Stopping"
   ]
  },
  {
   "cell_type": "markdown",
   "metadata": {},
   "source": [
    "```\n",
    "docker run\n",
    "\n",
    "[2020-10-01 18:47:21] INFO Your site is now available on http://localhost:2368/\n",
    "[2020-10-01 18:47:21] INFO Ctrl+C to shut down\n",
    "[2020-10-01 18:47:21] INFO Ghost boot 9.834s\n",
    "```\n",
    "\n",
    "This command continues listening for requests until we terminate it (with a call to `command+d`).  And thus, the container stays running.\n",
    "\n",
    "```\n",
    "docker container ls\n",
    "\n",
    "CONTAINER ID        IMAGE               COMMAND                  CREATED             STATUS              PORTS               NAMES\n",
    "f0751ef3ae11        ghost               \"docker-entrypoint.s…\"   4 seconds ago       Up 4 seconds        2368/tcp            cranky_booth\n",
    "```\n"
   ]
  },
  {
   "cell_type": "markdown",
   "metadata": {},
   "source": [
    "**However**, when we run the `ls` command, docker will create a container, perform the ls command and then destroy the container once the command has completed."
   ]
  },
  {
   "cell_type": "markdown",
   "metadata": {},
   "source": [
    "```\n",
    "(base) [~]$ docker run ghost ls\n",
    "\n",
    "config.development.json\n",
    "config.production.json\n",
    "content\n",
    "content.orig\n",
    "current\n",
    "versions\n",
    "\n",
    "\n",
    "(base) [~]$ docker container ls\n",
    "\n",
    "CONTAINER ID        IMAGE COMMAND CREATED STATUS PORTS NAMES\n",
    "```"
   ]
  },
  {
   "cell_type": "markdown",
   "metadata": {},
   "source": [
    "### 4. Persisting a Process"
   ]
  },
  {
   "cell_type": "markdown",
   "metadata": {},
   "source": [
    "`docker run ghost sh`"
   ]
  },
  {
   "cell_type": "markdown",
   "metadata": {},
   "source": [
    "### Resources\n",
    "\n",
    "* [Command vs Entrypoint](https://blog.codeship.com/understanding-dockers-cmd-and-entrypoint-instructions/)\n",
    "\n",
    "* *Docker for Data Science* book - for more on thinking of containers as processes"
   ]
  }
 ],
 "metadata": {
  "kernelspec": {
   "display_name": "Python 3",
   "language": "python",
   "name": "python3"
  },
  "language_info": {
   "codemirror_mode": {
    "name": "ipython",
    "version": 3
   },
   "file_extension": ".py",
   "mimetype": "text/x-python",
   "name": "python",
   "nbconvert_exporter": "python",
   "pygments_lexer": "ipython3",
   "version": "3.8.3"
  }
 },
 "nbformat": 4,
 "nbformat_minor": 4
}
